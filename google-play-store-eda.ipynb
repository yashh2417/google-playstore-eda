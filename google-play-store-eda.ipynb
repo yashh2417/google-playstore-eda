{
 "cells": [
  {
   "cell_type": "code",
   "execution_count": 1,
   "id": "110a3211-2ae7-4bfb-8fc7-db34eeef79b9",
   "metadata": {},
   "outputs": [],
   "source": [
    "import  pandas as pd\n",
    "import numpy as np\n",
    "import matplotlib.pyplot as plt\n",
    "import seaborn as sns\n",
    "import warnings\n",
    "warnings.filterwarnings(\"ignore\")\n",
    "%matplotlib inline"
   ]
  },
  {
   "cell_type": "code",
   "execution_count": 2,
   "id": "831f8b8d-81f0-40db-8093-2fe9b2cee4af",
   "metadata": {},
   "outputs": [
    {
     "data": {
      "text/html": [
       "<div>\n",
       "<style scoped>\n",
       "    .dataframe tbody tr th:only-of-type {\n",
       "        vertical-align: middle;\n",
       "    }\n",
       "\n",
       "    .dataframe tbody tr th {\n",
       "        vertical-align: top;\n",
       "    }\n",
       "\n",
       "    .dataframe thead th {\n",
       "        text-align: right;\n",
       "    }\n",
       "</style>\n",
       "<table border=\"1\" class=\"dataframe\">\n",
       "  <thead>\n",
       "    <tr style=\"text-align: right;\">\n",
       "      <th></th>\n",
       "      <th>App</th>\n",
       "      <th>Category</th>\n",
       "      <th>Rating</th>\n",
       "      <th>Reviews</th>\n",
       "      <th>Size</th>\n",
       "      <th>Installs</th>\n",
       "      <th>Type</th>\n",
       "      <th>Price</th>\n",
       "      <th>Content Rating</th>\n",
       "      <th>Genres</th>\n",
       "      <th>Last Updated</th>\n",
       "      <th>Current Ver</th>\n",
       "      <th>Android Ver</th>\n",
       "    </tr>\n",
       "  </thead>\n",
       "  <tbody>\n",
       "    <tr>\n",
       "      <th>0</th>\n",
       "      <td>Photo Editor &amp; Candy Camera &amp; Grid &amp; ScrapBook</td>\n",
       "      <td>ART_AND_DESIGN</td>\n",
       "      <td>4.1</td>\n",
       "      <td>159</td>\n",
       "      <td>19M</td>\n",
       "      <td>10,000+</td>\n",
       "      <td>Free</td>\n",
       "      <td>0</td>\n",
       "      <td>Everyone</td>\n",
       "      <td>Art &amp; Design</td>\n",
       "      <td>January 7, 2018</td>\n",
       "      <td>1.0.0</td>\n",
       "      <td>4.0.3 and up</td>\n",
       "    </tr>\n",
       "    <tr>\n",
       "      <th>1</th>\n",
       "      <td>Coloring book moana</td>\n",
       "      <td>ART_AND_DESIGN</td>\n",
       "      <td>3.9</td>\n",
       "      <td>967</td>\n",
       "      <td>14M</td>\n",
       "      <td>500,000+</td>\n",
       "      <td>Free</td>\n",
       "      <td>0</td>\n",
       "      <td>Everyone</td>\n",
       "      <td>Art &amp; Design;Pretend Play</td>\n",
       "      <td>January 15, 2018</td>\n",
       "      <td>2.0.0</td>\n",
       "      <td>4.0.3 and up</td>\n",
       "    </tr>\n",
       "    <tr>\n",
       "      <th>2</th>\n",
       "      <td>U Launcher Lite – FREE Live Cool Themes, Hide ...</td>\n",
       "      <td>ART_AND_DESIGN</td>\n",
       "      <td>4.7</td>\n",
       "      <td>87510</td>\n",
       "      <td>8.7M</td>\n",
       "      <td>5,000,000+</td>\n",
       "      <td>Free</td>\n",
       "      <td>0</td>\n",
       "      <td>Everyone</td>\n",
       "      <td>Art &amp; Design</td>\n",
       "      <td>August 1, 2018</td>\n",
       "      <td>1.2.4</td>\n",
       "      <td>4.0.3 and up</td>\n",
       "    </tr>\n",
       "    <tr>\n",
       "      <th>3</th>\n",
       "      <td>Sketch - Draw &amp; Paint</td>\n",
       "      <td>ART_AND_DESIGN</td>\n",
       "      <td>4.5</td>\n",
       "      <td>215644</td>\n",
       "      <td>25M</td>\n",
       "      <td>50,000,000+</td>\n",
       "      <td>Free</td>\n",
       "      <td>0</td>\n",
       "      <td>Teen</td>\n",
       "      <td>Art &amp; Design</td>\n",
       "      <td>June 8, 2018</td>\n",
       "      <td>Varies with device</td>\n",
       "      <td>4.2 and up</td>\n",
       "    </tr>\n",
       "    <tr>\n",
       "      <th>4</th>\n",
       "      <td>Pixel Draw - Number Art Coloring Book</td>\n",
       "      <td>ART_AND_DESIGN</td>\n",
       "      <td>4.3</td>\n",
       "      <td>967</td>\n",
       "      <td>2.8M</td>\n",
       "      <td>100,000+</td>\n",
       "      <td>Free</td>\n",
       "      <td>0</td>\n",
       "      <td>Everyone</td>\n",
       "      <td>Art &amp; Design;Creativity</td>\n",
       "      <td>June 20, 2018</td>\n",
       "      <td>1.1</td>\n",
       "      <td>4.4 and up</td>\n",
       "    </tr>\n",
       "  </tbody>\n",
       "</table>\n",
       "</div>"
      ],
      "text/plain": [
       "                                                 App        Category  Rating  \\\n",
       "0     Photo Editor & Candy Camera & Grid & ScrapBook  ART_AND_DESIGN     4.1   \n",
       "1                                Coloring book moana  ART_AND_DESIGN     3.9   \n",
       "2  U Launcher Lite – FREE Live Cool Themes, Hide ...  ART_AND_DESIGN     4.7   \n",
       "3                              Sketch - Draw & Paint  ART_AND_DESIGN     4.5   \n",
       "4              Pixel Draw - Number Art Coloring Book  ART_AND_DESIGN     4.3   \n",
       "\n",
       "  Reviews  Size     Installs  Type Price Content Rating  \\\n",
       "0     159   19M      10,000+  Free     0       Everyone   \n",
       "1     967   14M     500,000+  Free     0       Everyone   \n",
       "2   87510  8.7M   5,000,000+  Free     0       Everyone   \n",
       "3  215644   25M  50,000,000+  Free     0           Teen   \n",
       "4     967  2.8M     100,000+  Free     0       Everyone   \n",
       "\n",
       "                      Genres      Last Updated         Current Ver  \\\n",
       "0               Art & Design   January 7, 2018               1.0.0   \n",
       "1  Art & Design;Pretend Play  January 15, 2018               2.0.0   \n",
       "2               Art & Design    August 1, 2018               1.2.4   \n",
       "3               Art & Design      June 8, 2018  Varies with device   \n",
       "4    Art & Design;Creativity     June 20, 2018                 1.1   \n",
       "\n",
       "    Android Ver  \n",
       "0  4.0.3 and up  \n",
       "1  4.0.3 and up  \n",
       "2  4.0.3 and up  \n",
       "3    4.2 and up  \n",
       "4    4.4 and up  "
      ]
     },
     "execution_count": 2,
     "metadata": {},
     "output_type": "execute_result"
    }
   ],
   "source": [
    "df=pd.read_csv(\"googleplaystore.csv\")\n",
    "df.head()"
   ]
  },
  {
   "cell_type": "code",
   "execution_count": 3,
   "id": "77f30ebd-bce8-482d-8368-71a5707a6206",
   "metadata": {},
   "outputs": [
    {
     "data": {
      "text/plain": [
       "Index(['App', 'Category', 'Rating', 'Reviews', 'Size', 'Installs', 'Type',\n",
       "       'Price', 'Content Rating', 'Genres', 'Last Updated', 'Current Ver',\n",
       "       'Android Ver'],\n",
       "      dtype='object')"
      ]
     },
     "execution_count": 3,
     "metadata": {},
     "output_type": "execute_result"
    }
   ],
   "source": [
    "df.columns"
   ]
  },
  {
   "cell_type": "code",
   "execution_count": 4,
   "id": "8862cc6d-6e39-45e4-babf-99f108d03d48",
   "metadata": {},
   "outputs": [
    {
     "data": {
      "text/plain": [
       "(10841, 13)"
      ]
     },
     "execution_count": 4,
     "metadata": {},
     "output_type": "execute_result"
    }
   ],
   "source": [
    "df.shape"
   ]
  },
  {
   "cell_type": "code",
   "execution_count": 5,
   "id": "a77a50de-7dc4-477c-a276-40130f840406",
   "metadata": {},
   "outputs": [
    {
     "name": "stdout",
     "output_type": "stream",
     "text": [
      "<class 'pandas.core.frame.DataFrame'>\n",
      "RangeIndex: 10841 entries, 0 to 10840\n",
      "Data columns (total 13 columns):\n",
      " #   Column          Non-Null Count  Dtype  \n",
      "---  ------          --------------  -----  \n",
      " 0   App             10841 non-null  object \n",
      " 1   Category        10841 non-null  object \n",
      " 2   Rating          9367 non-null   float64\n",
      " 3   Reviews         10841 non-null  object \n",
      " 4   Size            10841 non-null  object \n",
      " 5   Installs        10841 non-null  object \n",
      " 6   Type            10840 non-null  object \n",
      " 7   Price           10841 non-null  object \n",
      " 8   Content Rating  10840 non-null  object \n",
      " 9   Genres          10841 non-null  object \n",
      " 10  Last Updated    10841 non-null  object \n",
      " 11  Current Ver     10833 non-null  object \n",
      " 12  Android Ver     10838 non-null  object \n",
      "dtypes: float64(1), object(12)\n",
      "memory usage: 1.1+ MB\n"
     ]
    }
   ],
   "source": [
    "df.info()"
   ]
  },
  {
   "cell_type": "code",
   "execution_count": 6,
   "id": "cd6cd571-3200-4b42-a05a-95d91a71c3d9",
   "metadata": {},
   "outputs": [
    {
     "data": {
      "text/html": [
       "<div>\n",
       "<style scoped>\n",
       "    .dataframe tbody tr th:only-of-type {\n",
       "        vertical-align: middle;\n",
       "    }\n",
       "\n",
       "    .dataframe tbody tr th {\n",
       "        vertical-align: top;\n",
       "    }\n",
       "\n",
       "    .dataframe thead th {\n",
       "        text-align: right;\n",
       "    }\n",
       "</style>\n",
       "<table border=\"1\" class=\"dataframe\">\n",
       "  <thead>\n",
       "    <tr style=\"text-align: right;\">\n",
       "      <th></th>\n",
       "      <th>Rating</th>\n",
       "    </tr>\n",
       "  </thead>\n",
       "  <tbody>\n",
       "    <tr>\n",
       "      <th>count</th>\n",
       "      <td>9367.000000</td>\n",
       "    </tr>\n",
       "    <tr>\n",
       "      <th>mean</th>\n",
       "      <td>4.193338</td>\n",
       "    </tr>\n",
       "    <tr>\n",
       "      <th>std</th>\n",
       "      <td>0.537431</td>\n",
       "    </tr>\n",
       "    <tr>\n",
       "      <th>min</th>\n",
       "      <td>1.000000</td>\n",
       "    </tr>\n",
       "    <tr>\n",
       "      <th>25%</th>\n",
       "      <td>4.000000</td>\n",
       "    </tr>\n",
       "    <tr>\n",
       "      <th>50%</th>\n",
       "      <td>4.300000</td>\n",
       "    </tr>\n",
       "    <tr>\n",
       "      <th>75%</th>\n",
       "      <td>4.500000</td>\n",
       "    </tr>\n",
       "    <tr>\n",
       "      <th>max</th>\n",
       "      <td>19.000000</td>\n",
       "    </tr>\n",
       "  </tbody>\n",
       "</table>\n",
       "</div>"
      ],
      "text/plain": [
       "            Rating\n",
       "count  9367.000000\n",
       "mean      4.193338\n",
       "std       0.537431\n",
       "min       1.000000\n",
       "25%       4.000000\n",
       "50%       4.300000\n",
       "75%       4.500000\n",
       "max      19.000000"
      ]
     },
     "execution_count": 6,
     "metadata": {},
     "output_type": "execute_result"
    }
   ],
   "source": [
    "df.describe()"
   ]
  },
  {
   "cell_type": "code",
   "execution_count": 7,
   "id": "3b4a19a7-923a-4d6e-9ec8-6eeb6dc65625",
   "metadata": {},
   "outputs": [
    {
     "data": {
      "text/plain": [
       "App                  0\n",
       "Category             0\n",
       "Rating            1474\n",
       "Reviews              0\n",
       "Size                 0\n",
       "Installs             0\n",
       "Type                 1\n",
       "Price                0\n",
       "Content Rating       1\n",
       "Genres               0\n",
       "Last Updated         0\n",
       "Current Ver          8\n",
       "Android Ver          3\n",
       "dtype: int64"
      ]
     },
     "execution_count": 7,
     "metadata": {},
     "output_type": "execute_result"
    }
   ],
   "source": [
    "## missing values\n",
    "df.isnull().sum()"
   ]
  },
  {
   "cell_type": "code",
   "execution_count": 8,
   "id": "dde52a0f-cda5-4958-85a8-d1ae40c36217",
   "metadata": {},
   "outputs": [
    {
     "data": {
      "text/plain": [
       "<Axes: >"
      ]
     },
     "execution_count": 8,
     "metadata": {},
     "output_type": "execute_result"
    },
    {
     "data": {
      "image/png": "[encoded data removed]",
      "text/plain": [
       "<Figure size 640x480 with 1 Axes>"
      ]
     },
     "metadata": {},
     "output_type": "display_data"
    }
   ],
   "source": [
    "sns.heatmap(df.isnull(), cbar=False)"
   ]
  },
  {
   "cell_type": "markdown",
   "id": "c238c57c-9969-4d72-bf48-0fc0f26253c5",
   "metadata": {},
   "source": [
    "## Observation\n",
    "The dataset has missing values"
   ]
  },
  {
   "cell_type": "code",
   "execution_count": 9,
   "id": "3ce035bd-800f-4587-bbed-254e6d28cc3a",
   "metadata": {},
   "outputs": [
    {
     "data": {
      "text/plain": [
       "Reviews\n",
       "0         596\n",
       "1         272\n",
       "2         214\n",
       "3         175\n",
       "4         137\n",
       "         ... \n",
       "342912      1\n",
       "4272        1\n",
       "5517        1\n",
       "4057        1\n",
       "398307      1\n",
       "Name: count, Length: 6002, dtype: int64"
      ]
     },
     "execution_count": 9,
     "metadata": {},
     "output_type": "execute_result"
    }
   ],
   "source": [
    "df[\"Reviews\"].value_counts()"
   ]
  },
  {
   "cell_type": "code",
   "execution_count": 10,
   "id": "9dec7ad8-8876-4afa-914d-678992a78416",
   "metadata": {},
   "outputs": [
    {
     "data": {
      "text/plain": [
       "array(['159', '967', '87510', ..., '603', '1195', '398307'], dtype=object)"
      ]
     },
     "execution_count": 10,
     "metadata": {},
     "output_type": "execute_result"
    }
   ],
   "source": [
    "df[\"Reviews\"].unique()"
   ]
  },
  {
   "cell_type": "markdown",
   "id": "9860de85-0c83-44de-b7d7-876ee7c7c460",
   "metadata": {},
   "source": [
    "elements are numeric but dtype is string"
   ]
  },
  {
   "cell_type": "code",
   "execution_count": 11,
   "id": "8029a977-f5ac-4ae6-a442-d284cc98e909",
   "metadata": {},
   "outputs": [],
   "source": [
    "# df[\"Reviews\"].astype(\"int\")\n",
    "# i tried this but there was an error written below"
   ]
  },
  {
   "cell_type": "markdown",
   "id": "8cf1918f-a65c-41ab-ab31-604b5dac881f",
   "metadata": {},
   "source": [
    "some elements of column \"Reviews\" also contain variables lets check with below code that how many numeric elements are there and compare to the total elements"
   ]
  },
  {
   "cell_type": "code",
   "execution_count": 12,
   "id": "bcc80f01-fde0-4081-a7f0-8606d2815429",
   "metadata": {},
   "outputs": [
    {
     "data": {
      "text/plain": [
       "10840"
      ]
     },
     "execution_count": 12,
     "metadata": {},
     "output_type": "execute_result"
    }
   ],
   "source": [
    "df[\"Reviews\"].str.isnumeric().sum()"
   ]
  },
  {
   "cell_type": "markdown",
   "id": "8c426852-d88f-4233-9932-60543f028410",
   "metadata": {},
   "source": [
    "so there are 10840 numeric elements out of 10841, lets check which one is varible with below code"
   ]
  },
  {
   "cell_type": "code",
   "execution_count": 13,
   "id": "92340733-d29d-488e-ae2d-ee1bd78d8581",
   "metadata": {},
   "outputs": [
    {
     "data": {
      "text/html": [
       "<div>\n",
       "<style scoped>\n",
       "    .dataframe tbody tr th:only-of-type {\n",
       "        vertical-align: middle;\n",
       "    }\n",
       "\n",
       "    .dataframe tbody tr th {\n",
       "        vertical-align: top;\n",
       "    }\n",
       "\n",
       "    .dataframe thead th {\n",
       "        text-align: right;\n",
       "    }\n",
       "</style>\n",
       "<table border=\"1\" class=\"dataframe\">\n",
       "  <thead>\n",
       "    <tr style=\"text-align: right;\">\n",
       "      <th></th>\n",
       "      <th>App</th>\n",
       "      <th>Category</th>\n",
       "      <th>Rating</th>\n",
       "      <th>Reviews</th>\n",
       "      <th>Size</th>\n",
       "      <th>Installs</th>\n",
       "      <th>Type</th>\n",
       "      <th>Price</th>\n",
       "      <th>Content Rating</th>\n",
       "      <th>Genres</th>\n",
       "      <th>Last Updated</th>\n",
       "      <th>Current Ver</th>\n",
       "      <th>Android Ver</th>\n",
       "    </tr>\n",
       "  </thead>\n",
       "  <tbody>\n",
       "    <tr>\n",
       "      <th>10472</th>\n",
       "      <td>Life Made WI-Fi Touchscreen Photo Frame</td>\n",
       "      <td>1.9</td>\n",
       "      <td>19.0</td>\n",
       "      <td>3.0M</td>\n",
       "      <td>1,000+</td>\n",
       "      <td>Free</td>\n",
       "      <td>0</td>\n",
       "      <td>Everyone</td>\n",
       "      <td>NaN</td>\n",
       "      <td>February 11, 2018</td>\n",
       "      <td>1.0.19</td>\n",
       "      <td>4.0 and up</td>\n",
       "      <td>NaN</td>\n",
       "    </tr>\n",
       "  </tbody>\n",
       "</table>\n",
       "</div>"
      ],
      "text/plain": [
       "                                           App Category  Rating Reviews  \\\n",
       "10472  Life Made WI-Fi Touchscreen Photo Frame      1.9    19.0    3.0M   \n",
       "\n",
       "         Size Installs Type     Price Content Rating             Genres  \\\n",
       "10472  1,000+     Free    0  Everyone            NaN  February 11, 2018   \n",
       "\n",
       "      Last Updated Current Ver Android Ver  \n",
       "10472       1.0.19  4.0 and up         NaN  "
      ]
     },
     "execution_count": 13,
     "metadata": {},
     "output_type": "execute_result"
    }
   ],
   "source": [
    "df[~df[\"Reviews\"].str.isnumeric()]"
   ]
  },
  {
   "cell_type": "markdown",
   "id": "43f2a7f4-be1b-42c7-837f-7a15c06689d5",
   "metadata": {},
   "source": [
    "so here in row 10472 and column \"Reviews\" we contains \"3.0M\" value lets delete it in another dataset(df_copy) because it will not create any problem with the dataset as it is very small"
   ]
  },
  {
   "cell_type": "code",
   "execution_count": 14,
   "id": "ce3b3c38-b3bc-4f01-b54f-f1fe4e2ba303",
   "metadata": {},
   "outputs": [],
   "source": [
    "df_copy=df.copy()"
   ]
  },
  {
   "cell_type": "code",
   "execution_count": 15,
   "id": "e0d897e1-b8aa-48fb-8bb2-ecfc008922fa",
   "metadata": {},
   "outputs": [],
   "source": [
    "df_copy=df_copy.drop(df_copy.index[10472])"
   ]
  },
  {
   "cell_type": "code",
   "execution_count": 16,
   "id": "4727fbbd-af4d-467d-8a52-d6c6e5d5bd8f",
   "metadata": {},
   "outputs": [
    {
     "data": {
      "text/html": [
       "<div>\n",
       "<style scoped>\n",
       "    .dataframe tbody tr th:only-of-type {\n",
       "        vertical-align: middle;\n",
       "    }\n",
       "\n",
       "    .dataframe tbody tr th {\n",
       "        vertical-align: top;\n",
       "    }\n",
       "\n",
       "    .dataframe thead th {\n",
       "        text-align: right;\n",
       "    }\n",
       "</style>\n",
       "<table border=\"1\" class=\"dataframe\">\n",
       "  <thead>\n",
       "    <tr style=\"text-align: right;\">\n",
       "      <th></th>\n",
       "      <th>App</th>\n",
       "      <th>Category</th>\n",
       "      <th>Rating</th>\n",
       "      <th>Reviews</th>\n",
       "      <th>Size</th>\n",
       "      <th>Installs</th>\n",
       "      <th>Type</th>\n",
       "      <th>Price</th>\n",
       "      <th>Content Rating</th>\n",
       "      <th>Genres</th>\n",
       "      <th>Last Updated</th>\n",
       "      <th>Current Ver</th>\n",
       "      <th>Android Ver</th>\n",
       "    </tr>\n",
       "  </thead>\n",
       "  <tbody>\n",
       "  </tbody>\n",
       "</table>\n",
       "</div>"
      ],
      "text/plain": [
       "Empty DataFrame\n",
       "Columns: [App, Category, Rating, Reviews, Size, Installs, Type, Price, Content Rating, Genres, Last Updated, Current Ver, Android Ver]\n",
       "Index: []"
      ]
     },
     "execution_count": 16,
     "metadata": {},
     "output_type": "execute_result"
    }
   ],
   "source": [
    "df_copy[~df_copy[\"Reviews\"].str.isnumeric()]"
   ]
  },
  {
   "cell_type": "markdown",
   "id": "8cacdf30-5dee-4043-8199-daaec52290a7",
   "metadata": {},
   "source": [
    "we can see that from df_copy we have removed the variable(3.0M) from the \"Reviews\" columns"
   ]
  },
  {
   "cell_type": "code",
   "execution_count": 17,
   "id": "8cf253ac-df2d-4518-8b7e-0791b00e666f",
   "metadata": {},
   "outputs": [],
   "source": [
    "df_copy[\"Reviews\"]=df_copy[\"Reviews\"].astype(int)"
   ]
  },
  {
   "cell_type": "code",
   "execution_count": 18,
   "id": "239dedbc-6389-4237-92cc-d121e7ded0b6",
   "metadata": {},
   "outputs": [
    {
     "name": "stdout",
     "output_type": "stream",
     "text": [
      "<class 'pandas.core.frame.DataFrame'>\n",
      "Index: 10840 entries, 0 to 10840\n",
      "Data columns (total 13 columns):\n",
      " #   Column          Non-Null Count  Dtype  \n",
      "---  ------          --------------  -----  \n",
      " 0   App             10840 non-null  object \n",
      " 1   Category        10840 non-null  object \n",
      " 2   Rating          9366 non-null   float64\n",
      " 3   Reviews         10840 non-null  int64  \n",
      " 4   Size            10840 non-null  object \n",
      " 5   Installs        10840 non-null  object \n",
      " 6   Type            10839 non-null  object \n",
      " 7   Price           10840 non-null  object \n",
      " 8   Content Rating  10840 non-null  object \n",
      " 9   Genres          10840 non-null  object \n",
      " 10  Last Updated    10840 non-null  object \n",
      " 11  Current Ver     10832 non-null  object \n",
      " 12  Android Ver     10838 non-null  object \n",
      "dtypes: float64(1), int64(1), object(11)\n",
      "memory usage: 1.2+ MB\n"
     ]
    }
   ],
   "source": [
    "df_copy.info()"
   ]
  },
  {
   "cell_type": "markdown",
   "id": "6dd60233-cf64-43b2-b993-b7d986af7b43",
   "metadata": {},
   "source": [
    "here we have converted \"Reviews\" column from object type to int type. now lets look at \"Size\" column."
   ]
  },
  {
   "cell_type": "code",
   "execution_count": 19,
   "id": "dbe369c2-94ef-4bde-bf28-5d3a81063e73",
   "metadata": {},
   "outputs": [
    {
     "data": {
      "text/plain": [
       "Size\n",
       "Varies with device    1695\n",
       "11M                    198\n",
       "12M                    196\n",
       "14M                    194\n",
       "13M                    191\n",
       "                      ... \n",
       "430k                     1\n",
       "429k                     1\n",
       "200k                     1\n",
       "460k                     1\n",
       "619k                     1\n",
       "Name: count, Length: 461, dtype: int64"
      ]
     },
     "execution_count": 19,
     "metadata": {},
     "output_type": "execute_result"
    }
   ],
   "source": [
    "df_copy[\"Size\"].value_counts()"
   ]
  },
  {
   "cell_type": "code",
   "execution_count": 20,
   "id": "8c5cfeee-1283-4b22-85b5-fe84cd16f8b8",
   "metadata": {},
   "outputs": [
    {
     "data": {
      "text/plain": [
       "array(['19M', '14M', '8.7M', '25M', '2.8M', '5.6M', '29M', '33M', '3.1M',\n",
       "       '28M', '12M', '20M', '21M', '37M', '2.7M', '5.5M', '17M', '39M',\n",
       "       '31M', '4.2M', '7.0M', '23M', '6.0M', '6.1M', '4.6M', '9.2M',\n",
       "       '5.2M', '11M', '24M', 'Varies with device', '9.4M', '15M', '10M',\n",
       "       '1.2M', '26M', '8.0M', '7.9M', '56M', '57M', '35M', '54M', '201k',\n",
       "       '3.6M', '5.7M', '8.6M', '2.4M', '27M', '2.5M', '16M', '3.4M',\n",
       "       '8.9M', '3.9M', '2.9M', '38M', '32M', '5.4M', '18M', '1.1M',\n",
       "       '2.2M', '4.5M', '9.8M', '52M', '9.0M', '6.7M', '30M', '2.6M',\n",
       "       '7.1M', '3.7M', '22M', '7.4M', '6.4M', '3.2M', '8.2M', '9.9M',\n",
       "       '4.9M', '9.5M', '5.0M', '5.9M', '13M', '73M', '6.8M', '3.5M',\n",
       "       '4.0M', '2.3M', '7.2M', '2.1M', '42M', '7.3M', '9.1M', '55M',\n",
       "       '23k', '6.5M', '1.5M', '7.5M', '51M', '41M', '48M', '8.5M', '46M',\n",
       "       '8.3M', '4.3M', '4.7M', '3.3M', '40M', '7.8M', '8.8M', '6.6M',\n",
       "       '5.1M', '61M', '66M', '79k', '8.4M', '118k', '44M', '695k', '1.6M',\n",
       "       '6.2M', '18k', '53M', '1.4M', '3.0M', '5.8M', '3.8M', '9.6M',\n",
       "       '45M', '63M', '49M', '77M', '4.4M', '4.8M', '70M', '6.9M', '9.3M',\n",
       "       '10.0M', '8.1M', '36M', '84M', '97M', '2.0M', '1.9M', '1.8M',\n",
       "       '5.3M', '47M', '556k', '526k', '76M', '7.6M', '59M', '9.7M', '78M',\n",
       "       '72M', '43M', '7.7M', '6.3M', '334k', '34M', '93M', '65M', '79M',\n",
       "       '100M', '58M', '50M', '68M', '64M', '67M', '60M', '94M', '232k',\n",
       "       '99M', '624k', '95M', '8.5k', '41k', '292k', '11k', '80M', '1.7M',\n",
       "       '74M', '62M', '69M', '75M', '98M', '85M', '82M', '96M', '87M',\n",
       "       '71M', '86M', '91M', '81M', '92M', '83M', '88M', '704k', '862k',\n",
       "       '899k', '378k', '266k', '375k', '1.3M', '975k', '980k', '4.1M',\n",
       "       '89M', '696k', '544k', '525k', '920k', '779k', '853k', '720k',\n",
       "       '713k', '772k', '318k', '58k', '241k', '196k', '857k', '51k',\n",
       "       '953k', '865k', '251k', '930k', '540k', '313k', '746k', '203k',\n",
       "       '26k', '314k', '239k', '371k', '220k', '730k', '756k', '91k',\n",
       "       '293k', '17k', '74k', '14k', '317k', '78k', '924k', '902k', '818k',\n",
       "       '81k', '939k', '169k', '45k', '475k', '965k', '90M', '545k', '61k',\n",
       "       '283k', '655k', '714k', '93k', '872k', '121k', '322k', '1.0M',\n",
       "       '976k', '172k', '238k', '549k', '206k', '954k', '444k', '717k',\n",
       "       '210k', '609k', '308k', '705k', '306k', '904k', '473k', '175k',\n",
       "       '350k', '383k', '454k', '421k', '70k', '812k', '442k', '842k',\n",
       "       '417k', '412k', '459k', '478k', '335k', '782k', '721k', '430k',\n",
       "       '429k', '192k', '200k', '460k', '728k', '496k', '816k', '414k',\n",
       "       '506k', '887k', '613k', '243k', '569k', '778k', '683k', '592k',\n",
       "       '319k', '186k', '840k', '647k', '191k', '373k', '437k', '598k',\n",
       "       '716k', '585k', '982k', '222k', '219k', '55k', '948k', '323k',\n",
       "       '691k', '511k', '951k', '963k', '25k', '554k', '351k', '27k',\n",
       "       '82k', '208k', '913k', '514k', '551k', '29k', '103k', '898k',\n",
       "       '743k', '116k', '153k', '209k', '353k', '499k', '173k', '597k',\n",
       "       '809k', '122k', '411k', '400k', '801k', '787k', '237k', '50k',\n",
       "       '643k', '986k', '97k', '516k', '837k', '780k', '961k', '269k',\n",
       "       '20k', '498k', '600k', '749k', '642k', '881k', '72k', '656k',\n",
       "       '601k', '221k', '228k', '108k', '940k', '176k', '33k', '663k',\n",
       "       '34k', '942k', '259k', '164k', '458k', '245k', '629k', '28k',\n",
       "       '288k', '775k', '785k', '636k', '916k', '994k', '309k', '485k',\n",
       "       '914k', '903k', '608k', '500k', '54k', '562k', '847k', '957k',\n",
       "       '688k', '811k', '270k', '48k', '329k', '523k', '921k', '874k',\n",
       "       '981k', '784k', '280k', '24k', '518k', '754k', '892k', '154k',\n",
       "       '860k', '364k', '387k', '626k', '161k', '879k', '39k', '970k',\n",
       "       '170k', '141k', '160k', '144k', '143k', '190k', '376k', '193k',\n",
       "       '246k', '73k', '658k', '992k', '253k', '420k', '404k', '470k',\n",
       "       '226k', '240k', '89k', '234k', '257k', '861k', '467k', '157k',\n",
       "       '44k', '676k', '67k', '552k', '885k', '1020k', '582k', '619k'],\n",
       "      dtype=object)"
      ]
     },
     "execution_count": 20,
     "metadata": {},
     "output_type": "execute_result"
    }
   ],
   "source": [
    "df_copy[\"Size\"].unique()"
   ]
  },
  {
   "attachments": {},
   "cell_type": "markdown",
   "id": "6025c44a-df71-4489-a6f9-2bb84032e86a",
   "metadata": {},
   "source": [
    "here we can see there some different variables with the numeric values(\"M\",\"k\"), lets convert \"M\" with '000' and \"k\" with ''."
   ]
  },
  {
   "cell_type": "code",
   "execution_count": 21,
   "id": "e6bdcbd6-b2a4-48ec-a211-bea01218a5d9",
   "metadata": {},
   "outputs": [],
   "source": [
    "df_copy[\"Size\"]=df_copy[\"Size\"].str.replace(\"M\", \"000\")\n",
    "df_copy[\"Size\"]=df_copy[\"Size\"].str.replace(\"k\", \"\")"
   ]
  },
  {
   "cell_type": "code",
   "execution_count": 22,
   "id": "62b1568e-90b3-4853-83e3-15a8a393d09e",
   "metadata": {},
   "outputs": [
    {
     "data": {
      "text/plain": [
       "App                  0\n",
       "Category             0\n",
       "Rating            1474\n",
       "Reviews              0\n",
       "Size                 0\n",
       "Installs             0\n",
       "Type                 1\n",
       "Price                0\n",
       "Content Rating       0\n",
       "Genres               0\n",
       "Last Updated         0\n",
       "Current Ver          8\n",
       "Android Ver          2\n",
       "dtype: int64"
      ]
     },
     "execution_count": 22,
     "metadata": {},
     "output_type": "execute_result"
    }
   ],
   "source": [
    "df_copy.isnull().sum()"
   ]
  },
  {
   "cell_type": "markdown",
   "id": "779f26fb-23aa-472d-9b59-95a5d0d3c3bf",
   "metadata": {},
   "source": [
    "now there is another problem in this \"Size\" column and that is we have given 'Varies with device' lets rplace it with null because we dont know the value of this element."
   ]
  },
  {
   "cell_type": "code",
   "execution_count": 23,
   "id": "908bd712-d216-4f23-a73c-dbc8db80c5fc",
   "metadata": {},
   "outputs": [],
   "source": [
    "df_copy[\"Size\"]=df_copy[\"Size\"].replace('Varies with device', np.nan) ## we will not use .str here.\n",
    "df_copy[\"Size\"]=df_copy[\"Size\"].astype(float)"
   ]
  },
  {
   "cell_type": "code",
   "execution_count": 24,
   "id": "460afcf0-7ed8-490e-a5eb-0c278f6ac369",
   "metadata": {},
   "outputs": [
    {
     "data": {
      "text/plain": [
       "App                  0\n",
       "Category             0\n",
       "Rating            1474\n",
       "Reviews              0\n",
       "Size              1695\n",
       "Installs             0\n",
       "Type                 1\n",
       "Price                0\n",
       "Content Rating       0\n",
       "Genres               0\n",
       "Last Updated         0\n",
       "Current Ver          8\n",
       "Android Ver          2\n",
       "dtype: int64"
      ]
     },
     "execution_count": 24,
     "metadata": {},
     "output_type": "execute_result"
    }
   ],
   "source": [
    "df_copy.isnull().sum()"
   ]
  },
  {
   "cell_type": "code",
   "execution_count": 25,
   "id": "aeda7130-485f-431e-a48c-35f79a528738",
   "metadata": {},
   "outputs": [
    {
     "name": "stdout",
     "output_type": "stream",
     "text": [
      "<class 'pandas.core.frame.DataFrame'>\n",
      "Index: 10840 entries, 0 to 10840\n",
      "Data columns (total 13 columns):\n",
      " #   Column          Non-Null Count  Dtype  \n",
      "---  ------          --------------  -----  \n",
      " 0   App             10840 non-null  object \n",
      " 1   Category        10840 non-null  object \n",
      " 2   Rating          9366 non-null   float64\n",
      " 3   Reviews         10840 non-null  int64  \n",
      " 4   Size            9145 non-null   float64\n",
      " 5   Installs        10840 non-null  object \n",
      " 6   Type            10839 non-null  object \n",
      " 7   Price           10840 non-null  object \n",
      " 8   Content Rating  10840 non-null  object \n",
      " 9   Genres          10840 non-null  object \n",
      " 10  Last Updated    10840 non-null  object \n",
      " 11  Current Ver     10832 non-null  object \n",
      " 12  Android Ver     10838 non-null  object \n",
      "dtypes: float64(2), int64(1), object(10)\n",
      "memory usage: 1.2+ MB\n"
     ]
    }
   ],
   "source": [
    "df_copy.info()"
   ]
  },
  {
   "cell_type": "markdown",
   "id": "86bf18df-5651-4a58-8150-82aa4afd1536",
   "metadata": {},
   "source": [
    "now here we can see \"Size\" column is also coverted to float type. lets  move to \"Installs\" column"
   ]
  },
  {
   "cell_type": "code",
   "execution_count": 26,
   "id": "280786d5-b7c5-4d0f-87d0-6a9a112ffe59",
   "metadata": {},
   "outputs": [
    {
     "data": {
      "text/plain": [
       "Installs\n",
       "1,000,000+        1579\n",
       "10,000,000+       1252\n",
       "100,000+          1169\n",
       "10,000+           1054\n",
       "1,000+             907\n",
       "5,000,000+         752\n",
       "100+               719\n",
       "500,000+           539\n",
       "50,000+            479\n",
       "5,000+             477\n",
       "100,000,000+       409\n",
       "10+                386\n",
       "500+               330\n",
       "50,000,000+        289\n",
       "50+                205\n",
       "5+                  82\n",
       "500,000,000+        72\n",
       "1+                  67\n",
       "1,000,000,000+      58\n",
       "0+                  14\n",
       "0                    1\n",
       "Name: count, dtype: int64"
      ]
     },
     "execution_count": 26,
     "metadata": {},
     "output_type": "execute_result"
    }
   ],
   "source": [
    "df_copy[\"Installs\"].value_counts()"
   ]
  },
  {
   "cell_type": "code",
   "execution_count": 27,
   "id": "77e1d029-8fcc-4ba3-92e8-83bb5ddc61cd",
   "metadata": {},
   "outputs": [
    {
     "data": {
      "text/plain": [
       "array(['10,000+', '500,000+', '5,000,000+', '50,000,000+', '100,000+',\n",
       "       '50,000+', '1,000,000+', '10,000,000+', '5,000+', '100,000,000+',\n",
       "       '1,000,000,000+', '1,000+', '500,000,000+', '50+', '100+', '500+',\n",
       "       '10+', '1+', '5+', '0+', '0'], dtype=object)"
      ]
     },
     "execution_count": 27,
     "metadata": {},
     "output_type": "execute_result"
    }
   ],
   "source": [
    "df_copy[\"Installs\"].unique()"
   ]
  },
  {
   "cell_type": "markdown",
   "id": "8479b7fb-b9b2-4293-9b2e-a7e5fe1d965a",
   "metadata": {},
   "source": [
    "lets check \"Price\" column too"
   ]
  },
  {
   "cell_type": "code",
   "execution_count": 28,
   "id": "6f0cd7d8-9a62-4abf-9758-bf1ace0bbc9d",
   "metadata": {},
   "outputs": [
    {
     "data": {
      "text/plain": [
       "Price\n",
       "0         10040\n",
       "$0.99       148\n",
       "$2.99       129\n",
       "$1.99        73\n",
       "$4.99        72\n",
       "          ...  \n",
       "$19.90        1\n",
       "$1.75         1\n",
       "$14.00        1\n",
       "$4.85         1\n",
       "$1.04         1\n",
       "Name: count, Length: 92, dtype: int64"
      ]
     },
     "execution_count": 28,
     "metadata": {},
     "output_type": "execute_result"
    }
   ],
   "source": [
    "df_copy[\"Price\"].value_counts()"
   ]
  },
  {
   "cell_type": "code",
   "execution_count": 29,
   "id": "cac1e9ef-9dde-4f51-979b-e5986df9acaa",
   "metadata": {},
   "outputs": [
    {
     "data": {
      "text/plain": [
       "array(['0', '$4.99', '$3.99', '$6.99', '$1.49', '$2.99', '$7.99', '$5.99',\n",
       "       '$3.49', '$1.99', '$9.99', '$7.49', '$0.99', '$9.00', '$5.49',\n",
       "       '$10.00', '$24.99', '$11.99', '$79.99', '$16.99', '$14.99',\n",
       "       '$1.00', '$29.99', '$12.99', '$2.49', '$10.99', '$1.50', '$19.99',\n",
       "       '$15.99', '$33.99', '$74.99', '$39.99', '$3.95', '$4.49', '$1.70',\n",
       "       '$8.99', '$2.00', '$3.88', '$25.99', '$399.99', '$17.99',\n",
       "       '$400.00', '$3.02', '$1.76', '$4.84', '$4.77', '$1.61', '$2.50',\n",
       "       '$1.59', '$6.49', '$1.29', '$5.00', '$13.99', '$299.99', '$379.99',\n",
       "       '$37.99', '$18.99', '$389.99', '$19.90', '$8.49', '$1.75',\n",
       "       '$14.00', '$4.85', '$46.99', '$109.99', '$154.99', '$3.08',\n",
       "       '$2.59', '$4.80', '$1.96', '$19.40', '$3.90', '$4.59', '$15.46',\n",
       "       '$3.04', '$4.29', '$2.60', '$3.28', '$4.60', '$28.99', '$2.95',\n",
       "       '$2.90', '$1.97', '$200.00', '$89.99', '$2.56', '$30.99', '$3.61',\n",
       "       '$394.99', '$1.26', '$1.20', '$1.04'], dtype=object)"
      ]
     },
     "execution_count": 29,
     "metadata": {},
     "output_type": "execute_result"
    }
   ],
   "source": [
    "df_copy[\"Price\"].unique()"
   ]
  },
  {
   "cell_type": "markdown",
   "id": "6c6d4f06-f6d2-4893-a9e7-a0ff83f7e642",
   "metadata": {},
   "source": [
    "here in \"Price\" and \"Installs\" column we can see \"+\", \"$\" and \",\" are there so lets remove them with below code."
   ]
  },
  {
   "cell_type": "code",
   "execution_count": 30,
   "id": "9c033e0c-829d-4579-8549-034da84ce612",
   "metadata": {},
   "outputs": [],
   "source": [
    "chars_to_remove=[\"+\",\",\",\"$\"]\n",
    "cols_to_clean=[\"Installs\",\"Price\"]\n",
    "for item in chars_to_remove:\n",
    "    for cols in cols_to_clean:\n",
    "        df_copy[cols]=df_copy[cols].str.replace(item,\"\")"
   ]
  },
  {
   "cell_type": "code",
   "execution_count": 31,
   "id": "54e5cc91-9da9-4fed-aadc-d08ba4eadf60",
   "metadata": {},
   "outputs": [
    {
     "data": {
      "text/plain": [
       "array(['0', '4.99', '3.99', '6.99', '1.49', '2.99', '7.99', '5.99',\n",
       "       '3.49', '1.99', '9.99', '7.49', '0.99', '9.00', '5.49', '10.00',\n",
       "       '24.99', '11.99', '79.99', '16.99', '14.99', '1.00', '29.99',\n",
       "       '12.99', '2.49', '10.99', '1.50', '19.99', '15.99', '33.99',\n",
       "       '74.99', '39.99', '3.95', '4.49', '1.70', '8.99', '2.00', '3.88',\n",
       "       '25.99', '399.99', '17.99', '400.00', '3.02', '1.76', '4.84',\n",
       "       '4.77', '1.61', '2.50', '1.59', '6.49', '1.29', '5.00', '13.99',\n",
       "       '299.99', '379.99', '37.99', '18.99', '389.99', '19.90', '8.49',\n",
       "       '1.75', '14.00', '4.85', '46.99', '109.99', '154.99', '3.08',\n",
       "       '2.59', '4.80', '1.96', '19.40', '3.90', '4.59', '15.46', '3.04',\n",
       "       '4.29', '2.60', '3.28', '4.60', '28.99', '2.95', '2.90', '1.97',\n",
       "       '200.00', '89.99', '2.56', '30.99', '3.61', '394.99', '1.26',\n",
       "       '1.20', '1.04'], dtype=object)"
      ]
     },
     "execution_count": 31,
     "metadata": {},
     "output_type": "execute_result"
    }
   ],
   "source": [
    "df_copy[\"Price\"].unique()"
   ]
  },
  {
   "cell_type": "code",
   "execution_count": 32,
   "id": "2f290c4d-0a5a-4afd-8b33-4f6a302c8d92",
   "metadata": {},
   "outputs": [
    {
     "data": {
      "text/plain": [
       "array(['10000', '500000', '5000000', '50000000', '100000', '50000',\n",
       "       '1000000', '10000000', '5000', '100000000', '1000000000', '1000',\n",
       "       '500000000', '50', '100', '500', '10', '1', '5', '0'], dtype=object)"
      ]
     },
     "execution_count": 32,
     "metadata": {},
     "output_type": "execute_result"
    }
   ],
   "source": [
    "df_copy[\"Installs\"].unique()"
   ]
  },
  {
   "cell_type": "markdown",
   "id": "496341f6-6133-4ba2-a07a-06bc82f8d2d6",
   "metadata": {},
   "source": [
    "we have sucessfully removed \",\", \"$\" and \"+\" signs from \"Price\" and \"Installs\" columns. lets convert \"Price\" to float type and \"Installs\" to int type."
   ]
  },
  {
   "cell_type": "code",
   "execution_count": 33,
   "id": "71e62143-be53-4279-984f-4bc82a424e5a",
   "metadata": {},
   "outputs": [
    {
     "name": "stdout",
     "output_type": "stream",
     "text": [
      "<class 'pandas.core.frame.DataFrame'>\n",
      "Index: 10840 entries, 0 to 10840\n",
      "Data columns (total 13 columns):\n",
      " #   Column          Non-Null Count  Dtype  \n",
      "---  ------          --------------  -----  \n",
      " 0   App             10840 non-null  object \n",
      " 1   Category        10840 non-null  object \n",
      " 2   Rating          9366 non-null   float64\n",
      " 3   Reviews         10840 non-null  int64  \n",
      " 4   Size            9145 non-null   float64\n",
      " 5   Installs        10840 non-null  int64  \n",
      " 6   Type            10839 non-null  object \n",
      " 7   Price           10840 non-null  float64\n",
      " 8   Content Rating  10840 non-null  object \n",
      " 9   Genres          10840 non-null  object \n",
      " 10  Last Updated    10840 non-null  object \n",
      " 11  Current Ver     10832 non-null  object \n",
      " 12  Android Ver     10838 non-null  object \n",
      "dtypes: float64(3), int64(2), object(8)\n",
      "memory usage: 1.2+ MB\n"
     ]
    }
   ],
   "source": [
    "df_copy[\"Price\"]=df_copy[\"Price\"].astype(float)\n",
    "df_copy[\"Installs\"]=df_copy[\"Installs\"].astype(int)\n",
    "df_copy.info()"
   ]
  },
  {
   "cell_type": "markdown",
   "id": "ebc028cc-e804-4698-8fa7-e10b67652191",
   "metadata": {},
   "source": [
    "now look at \"last Update\" column"
   ]
  },
  {
   "cell_type": "code",
   "execution_count": 34,
   "id": "fcbad45f-174e-40d0-913b-db69b4008300",
   "metadata": {},
   "outputs": [
    {
     "data": {
      "text/plain": [
       "0         January 7, 2018\n",
       "1        January 15, 2018\n",
       "2          August 1, 2018\n",
       "3            June 8, 2018\n",
       "4           June 20, 2018\n",
       "               ...       \n",
       "10836       July 25, 2017\n",
       "10837        July 6, 2018\n",
       "10838    January 20, 2017\n",
       "10839    January 19, 2015\n",
       "10840       July 25, 2018\n",
       "Name: Last Updated, Length: 10840, dtype: object"
      ]
     },
     "execution_count": 34,
     "metadata": {},
     "output_type": "execute_result"
    }
   ],
   "source": [
    "df_copy[\"Last Updated\"]"
   ]
  },
  {
   "cell_type": "markdown",
   "id": "ec15bb5b-ea7a-4fbc-bd33-640220b14b47",
   "metadata": {},
   "source": [
    "lets convert this to \"date-time\" format with below code and take \"date\", \"month\" and \"year\" saperately."
   ]
  },
  {
   "cell_type": "code",
   "execution_count": 35,
   "id": "72707da2-e273-4a0f-ae75-5a94e7e59831",
   "metadata": {},
   "outputs": [],
   "source": [
    "df_copy[\"Last Updated\"]=pd.to_datetime(df_copy[\"Last Updated\"])\n",
    "df_copy[\"Day\"]=df_copy[\"Last Updated\"].dt.day\n",
    "df_copy[\"Month\"]=df_copy[\"Last Updated\"].dt.month\n",
    "df_copy[\"Year\"]=df_copy[\"Last Updated\"].dt.year"
   ]
  },
  {
   "cell_type": "code",
   "execution_count": 36,
   "id": "d13fe73e-11f1-481f-993e-3706cfd3d683",
   "metadata": {},
   "outputs": [
    {
     "name": "stdout",
     "output_type": "stream",
     "text": [
      "<class 'pandas.core.frame.DataFrame'>\n",
      "Index: 10840 entries, 0 to 10840\n",
      "Data columns (total 16 columns):\n",
      " #   Column          Non-Null Count  Dtype         \n",
      "---  ------          --------------  -----         \n",
      " 0   App             10840 non-null  object        \n",
      " 1   Category        10840 non-null  object        \n",
      " 2   Rating          9366 non-null   float64       \n",
      " 3   Reviews         10840 non-null  int64         \n",
      " 4   Size            9145 non-null   float64       \n",
      " 5   Installs        10840 non-null  int64         \n",
      " 6   Type            10839 non-null  object        \n",
      " 7   Price           10840 non-null  float64       \n",
      " 8   Content Rating  10840 non-null  object        \n",
      " 9   Genres          10840 non-null  object        \n",
      " 10  Last Updated    10840 non-null  datetime64[ns]\n",
      " 11  Current Ver     10832 non-null  object        \n",
      " 12  Android Ver     10838 non-null  object        \n",
      " 13  Day             10840 non-null  int32         \n",
      " 14  Month           10840 non-null  int32         \n",
      " 15  Year            10840 non-null  int32         \n",
      "dtypes: datetime64[ns](1), float64(3), int32(3), int64(2), object(7)\n",
      "memory usage: 1.3+ MB\n"
     ]
    }
   ],
   "source": [
    "df_copy.info()"
   ]
  },
  {
   "cell_type": "markdown",
   "id": "a537744c-2541-4158-9b51-a9fede88ff70",
   "metadata": {},
   "source": [
    "here \"Last Updated\" column coverted to \"datetime\" type and date, month and year we have taken saperately.\n",
    "now lets look \"Content Rating\" column."
   ]
  },
  {
   "cell_type": "code",
   "execution_count": 37,
   "id": "5f02391f-0867-4390-b234-c9854ad12b95",
   "metadata": {},
   "outputs": [
    {
     "data": {
      "text/plain": [
       "Content Rating\n",
       "Everyone           8714\n",
       "Teen               1208\n",
       "Mature 17+          499\n",
       "Everyone 10+        414\n",
       "Adults only 18+       3\n",
       "Unrated               2\n",
       "Name: count, dtype: int64"
      ]
     },
     "execution_count": 37,
     "metadata": {},
     "output_type": "execute_result"
    }
   ],
   "source": [
    "df_copy[\"Content Rating\"].value_counts()"
   ]
  },
  {
   "cell_type": "code",
   "execution_count": 38,
   "id": "9cecde83-7dd8-4f89-b71a-e6b5323643b6",
   "metadata": {},
   "outputs": [
    {
     "data": {
      "text/plain": [
       "array(['Everyone', 'Teen', 'Everyone 10+', 'Mature 17+',\n",
       "       'Adults only 18+', 'Unrated'], dtype=object)"
      ]
     },
     "execution_count": 38,
     "metadata": {},
     "output_type": "execute_result"
    }
   ],
   "source": [
    "df_copy[\"Content Rating\"].unique()"
   ]
  },
  {
   "cell_type": "code",
   "execution_count": 39,
   "id": "a8076dcd-eaa6-4c45-9013-96aa6771e837",
   "metadata": {},
   "outputs": [
    {
     "data": {
      "text/plain": [
       "Text(0.5, 1.0, 'Content rating with their counts')"
      ]
     },
     "execution_count": 39,
     "metadata": {},
     "output_type": "execute_result"
    },
    {
     "data": {
      "image/png": "[encoded data removed]",
      "text/plain": [
       "<Figure size 640x480 with 1 Axes>"
      ]
     },
     "metadata": {},
     "output_type": "display_data"
    }
   ],
   "source": [
    "sns.countplot(y = \"Content Rating\", data = df)\n",
    "plt.title(\"Content rating with their counts\")"
   ]
  },
  {
   "cell_type": "markdown",
   "id": "0f6d6296-3cd5-4c32-99e1-8a1b655d3491",
   "metadata": {},
   "source": [
    "Here with this count-plot we can observe that \"Everyone\" Content Rating contains highest count (more than 8000) followed by \"Teen\" and \"Mature 17+\"."
   ]
  },
  {
   "cell_type": "code",
   "execution_count": 40,
   "id": "a4cfa896-b12d-4c34-a2da-79522434ba47",
   "metadata": {},
   "outputs": [
    {
     "data": {
      "text/plain": [
       "Text(0.5, 1.0, 'The content rating & rating')"
      ]
     },
     "execution_count": 40,
     "metadata": {},
     "output_type": "execute_result"
    },
    {
     "data": {
      "image/png": "[encoded data removed]",
      "text/plain": [
       "<Figure size 640x480 with 1 Axes>"
      ]
     },
     "metadata": {},
     "output_type": "display_data"
    }
   ],
   "source": [
    "sns.boxplot(x = \"Content Rating\", y = \"Rating\", data = df)\n",
    "plt.title(\"The content rating & rating\", size=20)"
   ]
  },
  {
   "cell_type": "markdown",
   "id": "aa03bcf2-40b2-4338-b375-835db4272dac",
   "metadata": {},
   "source": [
    "Also \"Everyone\" content rating contains more numbers of outliers."
   ]
  },
  {
   "cell_type": "markdown",
   "id": "d3cc2158-6081-4ead-aa06-10ba7c4838b2",
   "metadata": {},
   "source": [
    "we can do ohe(one hot encoding) on these features."
   ]
  },
  {
   "cell_type": "code",
   "execution_count": 41,
   "id": "e890fbe5-6eae-4a94-8dc4-043cf742fa6c",
   "metadata": {},
   "outputs": [],
   "source": [
    "from sklearn.preprocessing import OneHotEncoder"
   ]
  },
  {
   "cell_type": "code",
   "execution_count": 42,
   "id": "be119e48-05c0-4e3f-bb05-0c41728bebdc",
   "metadata": {},
   "outputs": [
    {
     "data": {
      "text/html": [
       "<div>\n",
       "<style scoped>\n",
       "    .dataframe tbody tr th:only-of-type {\n",
       "        vertical-align: middle;\n",
       "    }\n",
       "\n",
       "    .dataframe tbody tr th {\n",
       "        vertical-align: top;\n",
       "    }\n",
       "\n",
       "    .dataframe thead th {\n",
       "        text-align: right;\n",
       "    }\n",
       "</style>\n",
       "<table border=\"1\" class=\"dataframe\">\n",
       "  <thead>\n",
       "    <tr style=\"text-align: right;\">\n",
       "      <th></th>\n",
       "      <th>App</th>\n",
       "      <th>Category</th>\n",
       "      <th>Rating</th>\n",
       "      <th>Reviews</th>\n",
       "      <th>Size</th>\n",
       "      <th>Installs</th>\n",
       "      <th>Type</th>\n",
       "      <th>Price</th>\n",
       "      <th>Content Rating</th>\n",
       "      <th>Genres</th>\n",
       "      <th>...</th>\n",
       "      <th>Android Ver</th>\n",
       "      <th>Day</th>\n",
       "      <th>Month</th>\n",
       "      <th>Year</th>\n",
       "      <th>Content Rating_Adults only 18+</th>\n",
       "      <th>Content Rating_Everyone</th>\n",
       "      <th>Content Rating_Everyone 10+</th>\n",
       "      <th>Content Rating_Mature 17+</th>\n",
       "      <th>Content Rating_Teen</th>\n",
       "      <th>Content Rating_Unrated</th>\n",
       "    </tr>\n",
       "  </thead>\n",
       "  <tbody>\n",
       "    <tr>\n",
       "      <th>0</th>\n",
       "      <td>Photo Editor &amp; Candy Camera &amp; Grid &amp; ScrapBook</td>\n",
       "      <td>ART_AND_DESIGN</td>\n",
       "      <td>4.1</td>\n",
       "      <td>159</td>\n",
       "      <td>19000.0</td>\n",
       "      <td>10000</td>\n",
       "      <td>Free</td>\n",
       "      <td>0.0</td>\n",
       "      <td>Everyone</td>\n",
       "      <td>Art &amp; Design</td>\n",
       "      <td>...</td>\n",
       "      <td>4.0.3 and up</td>\n",
       "      <td>7</td>\n",
       "      <td>1</td>\n",
       "      <td>2018</td>\n",
       "      <td>0.0</td>\n",
       "      <td>1.0</td>\n",
       "      <td>0.0</td>\n",
       "      <td>0.0</td>\n",
       "      <td>0.0</td>\n",
       "      <td>0.0</td>\n",
       "    </tr>\n",
       "    <tr>\n",
       "      <th>1</th>\n",
       "      <td>Coloring book moana</td>\n",
       "      <td>ART_AND_DESIGN</td>\n",
       "      <td>3.9</td>\n",
       "      <td>967</td>\n",
       "      <td>14000.0</td>\n",
       "      <td>500000</td>\n",
       "      <td>Free</td>\n",
       "      <td>0.0</td>\n",
       "      <td>Everyone</td>\n",
       "      <td>Art &amp; Design;Pretend Play</td>\n",
       "      <td>...</td>\n",
       "      <td>4.0.3 and up</td>\n",
       "      <td>15</td>\n",
       "      <td>1</td>\n",
       "      <td>2018</td>\n",
       "      <td>0.0</td>\n",
       "      <td>1.0</td>\n",
       "      <td>0.0</td>\n",
       "      <td>0.0</td>\n",
       "      <td>0.0</td>\n",
       "      <td>0.0</td>\n",
       "    </tr>\n",
       "    <tr>\n",
       "      <th>2</th>\n",
       "      <td>U Launcher Lite – FREE Live Cool Themes, Hide ...</td>\n",
       "      <td>ART_AND_DESIGN</td>\n",
       "      <td>4.7</td>\n",
       "      <td>87510</td>\n",
       "      <td>8.7</td>\n",
       "      <td>5000000</td>\n",
       "      <td>Free</td>\n",
       "      <td>0.0</td>\n",
       "      <td>Everyone</td>\n",
       "      <td>Art &amp; Design</td>\n",
       "      <td>...</td>\n",
       "      <td>4.0.3 and up</td>\n",
       "      <td>1</td>\n",
       "      <td>8</td>\n",
       "      <td>2018</td>\n",
       "      <td>0.0</td>\n",
       "      <td>1.0</td>\n",
       "      <td>0.0</td>\n",
       "      <td>0.0</td>\n",
       "      <td>0.0</td>\n",
       "      <td>0.0</td>\n",
       "    </tr>\n",
       "    <tr>\n",
       "      <th>3</th>\n",
       "      <td>Sketch - Draw &amp; Paint</td>\n",
       "      <td>ART_AND_DESIGN</td>\n",
       "      <td>4.5</td>\n",
       "      <td>215644</td>\n",
       "      <td>25000.0</td>\n",
       "      <td>50000000</td>\n",
       "      <td>Free</td>\n",
       "      <td>0.0</td>\n",
       "      <td>Teen</td>\n",
       "      <td>Art &amp; Design</td>\n",
       "      <td>...</td>\n",
       "      <td>4.2 and up</td>\n",
       "      <td>8</td>\n",
       "      <td>6</td>\n",
       "      <td>2018</td>\n",
       "      <td>0.0</td>\n",
       "      <td>0.0</td>\n",
       "      <td>0.0</td>\n",
       "      <td>0.0</td>\n",
       "      <td>1.0</td>\n",
       "      <td>0.0</td>\n",
       "    </tr>\n",
       "    <tr>\n",
       "      <th>4</th>\n",
       "      <td>Pixel Draw - Number Art Coloring Book</td>\n",
       "      <td>ART_AND_DESIGN</td>\n",
       "      <td>4.3</td>\n",
       "      <td>967</td>\n",
       "      <td>2.8</td>\n",
       "      <td>100000</td>\n",
       "      <td>Free</td>\n",
       "      <td>0.0</td>\n",
       "      <td>Everyone</td>\n",
       "      <td>Art &amp; Design;Creativity</td>\n",
       "      <td>...</td>\n",
       "      <td>4.4 and up</td>\n",
       "      <td>20</td>\n",
       "      <td>6</td>\n",
       "      <td>2018</td>\n",
       "      <td>0.0</td>\n",
       "      <td>1.0</td>\n",
       "      <td>0.0</td>\n",
       "      <td>0.0</td>\n",
       "      <td>0.0</td>\n",
       "      <td>0.0</td>\n",
       "    </tr>\n",
       "  </tbody>\n",
       "</table>\n",
       "<p>5 rows × 22 columns</p>\n",
       "</div>"
      ],
      "text/plain": [
       "                                                 App        Category  Rating  \\\n",
       "0     Photo Editor & Candy Camera & Grid & ScrapBook  ART_AND_DESIGN     4.1   \n",
       "1                                Coloring book moana  ART_AND_DESIGN     3.9   \n",
       "2  U Launcher Lite – FREE Live Cool Themes, Hide ...  ART_AND_DESIGN     4.7   \n",
       "3                              Sketch - Draw & Paint  ART_AND_DESIGN     4.5   \n",
       "4              Pixel Draw - Number Art Coloring Book  ART_AND_DESIGN     4.3   \n",
       "\n",
       "   Reviews     Size  Installs  Type  Price Content Rating  \\\n",
       "0      159  19000.0     10000  Free    0.0       Everyone   \n",
       "1      967  14000.0    500000  Free    0.0       Everyone   \n",
       "2    87510      8.7   5000000  Free    0.0       Everyone   \n",
       "3   215644  25000.0  50000000  Free    0.0           Teen   \n",
       "4      967      2.8    100000  Free    0.0       Everyone   \n",
       "\n",
       "                      Genres  ...   Android Ver Day Month  Year  \\\n",
       "0               Art & Design  ...  4.0.3 and up   7     1  2018   \n",
       "1  Art & Design;Pretend Play  ...  4.0.3 and up  15     1  2018   \n",
       "2               Art & Design  ...  4.0.3 and up   1     8  2018   \n",
       "3               Art & Design  ...    4.2 and up   8     6  2018   \n",
       "4    Art & Design;Creativity  ...    4.4 and up  20     6  2018   \n",
       "\n",
       "   Content Rating_Adults only 18+  Content Rating_Everyone  \\\n",
       "0                             0.0                      1.0   \n",
       "1                             0.0                      1.0   \n",
       "2                             0.0                      1.0   \n",
       "3                             0.0                      0.0   \n",
       "4                             0.0                      1.0   \n",
       "\n",
       "   Content Rating_Everyone 10+  Content Rating_Mature 17+  \\\n",
       "0                          0.0                        0.0   \n",
       "1                          0.0                        0.0   \n",
       "2                          0.0                        0.0   \n",
       "3                          0.0                        0.0   \n",
       "4                          0.0                        0.0   \n",
       "\n",
       "   Content Rating_Teen  Content Rating_Unrated  \n",
       "0                  0.0                     0.0  \n",
       "1                  0.0                     0.0  \n",
       "2                  0.0                     0.0  \n",
       "3                  1.0                     0.0  \n",
       "4                  0.0                     0.0  \n",
       "\n",
       "[5 rows x 22 columns]"
      ]
     },
     "execution_count": 42,
     "metadata": {},
     "output_type": "execute_result"
    }
   ],
   "source": [
    "# Create an instance of One-hot-encoder \n",
    "ohe=OneHotEncoder()\n",
    "\n",
    "# ohe.fit_transform(df[[\"Content Rating\"]])\n",
    "\n",
    "# Passing encoded columns \n",
    "ohe_data = pd.DataFrame(ohe.fit_transform( \n",
    "    df_copy[[\"Content Rating\"]]).toarray(), columns=ohe.get_feature_names_out())\n",
    "\n",
    "# Merge with main \n",
    "df_copy = df_copy.join(ohe_data) \n",
    "# df_copy=pd.concat([df_copy,ohe_data],axis=1)\n",
    "df_copy.head()"
   ]
  },
  {
   "cell_type": "markdown",
   "id": "97e1593b-54ab-4abd-a3eb-787729e476c0",
   "metadata": {},
   "source": [
    "here we have made dummy features using OHE which will help us in building ML model. now lets check more columns."
   ]
  },
  {
   "cell_type": "code",
   "execution_count": 43,
   "id": "fcda7bea-9b95-45f6-8ae1-ba2c1606aad0",
   "metadata": {},
   "outputs": [
    {
     "data": {
      "text/plain": [
       "Category\n",
       "FAMILY                 1972\n",
       "GAME                   1144\n",
       "TOOLS                   843\n",
       "MEDICAL                 463\n",
       "BUSINESS                460\n",
       "PRODUCTIVITY            424\n",
       "PERSONALIZATION         392\n",
       "COMMUNICATION           387\n",
       "SPORTS                  384\n",
       "LIFESTYLE               382\n",
       "FINANCE                 366\n",
       "HEALTH_AND_FITNESS      341\n",
       "PHOTOGRAPHY             335\n",
       "SOCIAL                  295\n",
       "NEWS_AND_MAGAZINES      283\n",
       "SHOPPING                260\n",
       "TRAVEL_AND_LOCAL        258\n",
       "DATING                  234\n",
       "BOOKS_AND_REFERENCE     231\n",
       "VIDEO_PLAYERS           175\n",
       "EDUCATION               156\n",
       "ENTERTAINMENT           149\n",
       "MAPS_AND_NAVIGATION     137\n",
       "FOOD_AND_DRINK          127\n",
       "HOUSE_AND_HOME           88\n",
       "AUTO_AND_VEHICLES        85\n",
       "LIBRARIES_AND_DEMO       85\n",
       "WEATHER                  82\n",
       "ART_AND_DESIGN           65\n",
       "EVENTS                   64\n",
       "PARENTING                60\n",
       "COMICS                   60\n",
       "BEAUTY                   53\n",
       "Name: count, dtype: int64"
      ]
     },
     "execution_count": 43,
     "metadata": {},
     "output_type": "execute_result"
    }
   ],
   "source": [
    "df_copy[\"Category\"].value_counts()"
   ]
  },
  {
   "cell_type": "code",
   "execution_count": 44,
   "id": "10addaef-bfa7-46eb-80ba-8ae616d5e9e4",
   "metadata": {},
   "outputs": [
    {
     "data": {
      "text/plain": [
       "array(['ART_AND_DESIGN', 'AUTO_AND_VEHICLES', 'BEAUTY',\n",
       "       'BOOKS_AND_REFERENCE', 'BUSINESS', 'COMICS', 'COMMUNICATION',\n",
       "       'DATING', 'EDUCATION', 'ENTERTAINMENT', 'EVENTS', 'FINANCE',\n",
       "       'FOOD_AND_DRINK', 'HEALTH_AND_FITNESS', 'HOUSE_AND_HOME',\n",
       "       'LIBRARIES_AND_DEMO', 'LIFESTYLE', 'GAME', 'FAMILY', 'MEDICAL',\n",
       "       'SOCIAL', 'SHOPPING', 'PHOTOGRAPHY', 'SPORTS', 'TRAVEL_AND_LOCAL',\n",
       "       'TOOLS', 'PERSONALIZATION', 'PRODUCTIVITY', 'PARENTING', 'WEATHER',\n",
       "       'VIDEO_PLAYERS', 'NEWS_AND_MAGAZINES', 'MAPS_AND_NAVIGATION'],\n",
       "      dtype=object)"
      ]
     },
     "execution_count": 44,
     "metadata": {},
     "output_type": "execute_result"
    }
   ],
   "source": [
    "df_copy[\"Category\"].unique()"
   ]
  },
  {
   "cell_type": "code",
   "execution_count": 46,
   "id": "186a4e7e-077c-47e1-b69e-5df82c311ec1",
   "metadata": {},
   "outputs": [
    {
     "data": {
      "text/plain": [
       "Text(0.5, 1.0, 'The number of categories')"
      ]
     },
     "execution_count": 46,
     "metadata": {},
     "output_type": "execute_result"
    },
    {
     "data": {
      "image/png": "[encoded data removed]",
      "text/plain": [
       "<Figure size 640x480 with 1 Axes>"
      ]
     },
     "metadata": {},
     "output_type": "display_data"
    }
   ],
   "source": [
    "cat_num = df[\"Category\"].value_counts()\n",
    "sns.barplot(x = cat_num, y = cat_num.index, data = df)\n",
    "plt.title(\"The number of categories\", size=20)"
   ]
  },
  {
   "cell_type": "markdown",
   "id": "f964c594-4c22-4a9c-a603-35bd23a412ce",
   "metadata": {},
   "source": [
    "Here with this bar-plot we can observe that \"Family\" Category have highest counts(around 2000) followed by \"Game\" and \"Tools\""
   ]
  },
  {
   "cell_type": "code",
   "execution_count": 47,
   "id": "aadd07c8-72b7-41b2-b1b4-7bad3fe7b14e",
   "metadata": {},
   "outputs": [
    {
     "data": {
      "text/plain": [
       "App\n",
       "ROBLOX                                                9\n",
       "CBS Sports App - Scores, News, Stats & Watch Live     8\n",
       "ESPN                                                  7\n",
       "Duolingo: Learn Languages Free                        7\n",
       "Candy Crush Saga                                      7\n",
       "                                                     ..\n",
       "Meet U - Get Friends for Snapchat, Kik & Instagram    1\n",
       "U-Report                                              1\n",
       "U of I Community Credit Union                         1\n",
       "Waiting For U Launcher Theme                          1\n",
       "iHoroscope - 2018 Daily Horoscope & Astrology         1\n",
       "Name: count, Length: 9659, dtype: int64"
      ]
     },
     "execution_count": 47,
     "metadata": {},
     "output_type": "execute_result"
    }
   ],
   "source": [
    "df_copy[\"App\"].value_counts()"
   ]
  },
  {
   "cell_type": "code",
   "execution_count": 48,
   "id": "89492d9a-b9d9-4ece-90a3-734309322ae1",
   "metadata": {},
   "outputs": [
    {
     "data": {
      "text/plain": [
       "array(['Photo Editor & Candy Camera & Grid & ScrapBook',\n",
       "       'Coloring book moana',\n",
       "       'U Launcher Lite – FREE Live Cool Themes, Hide Apps', ...,\n",
       "       'Parkinson Exercices FR', 'The SCP Foundation DB fr nn5n',\n",
       "       'iHoroscope - 2018 Daily Horoscope & Astrology'], dtype=object)"
      ]
     },
     "execution_count": 48,
     "metadata": {},
     "output_type": "execute_result"
    }
   ],
   "source": [
    "df_copy[\"App\"].unique()"
   ]
  },
  {
   "cell_type": "code",
   "execution_count": 49,
   "id": "a05b0edf-df15-47d1-a431-18e1fdb07a89",
   "metadata": {},
   "outputs": [
    {
     "data": {
      "text/plain": [
       "Index(['App', 'Category', 'Rating', 'Reviews', 'Size', 'Installs', 'Type',\n",
       "       'Price', 'Content Rating', 'Genres', 'Last Updated', 'Current Ver',\n",
       "       'Android Ver', 'Day', 'Month', 'Year', 'Content Rating_Adults only 18+',\n",
       "       'Content Rating_Everyone', 'Content Rating_Everyone 10+',\n",
       "       'Content Rating_Mature 17+', 'Content Rating_Teen',\n",
       "       'Content Rating_Unrated'],\n",
       "      dtype='object')"
      ]
     },
     "execution_count": 49,
     "metadata": {},
     "output_type": "execute_result"
    }
   ],
   "source": [
    "df_copy.columns"
   ]
  },
  {
   "cell_type": "code",
   "execution_count": 50,
   "id": "d3cf6797-4756-4f53-9f3f-b93cc3c38a8d",
   "metadata": {},
   "outputs": [
    {
     "data": {
      "text/plain": [
       "Genres\n",
       "Tools                                842\n",
       "Entertainment                        623\n",
       "Education                            549\n",
       "Medical                              463\n",
       "Business                             460\n",
       "                                    ... \n",
       "Parenting;Brain Games                  1\n",
       "Travel & Local;Action & Adventure      1\n",
       "Lifestyle;Pretend Play                 1\n",
       "Tools;Education                        1\n",
       "Strategy;Creativity                    1\n",
       "Name: count, Length: 119, dtype: int64"
      ]
     },
     "execution_count": 50,
     "metadata": {},
     "output_type": "execute_result"
    }
   ],
   "source": [
    "df_copy[\"Genres\"].value_counts()"
   ]
  },
  {
   "cell_type": "code",
   "execution_count": 51,
   "id": "e9510b1a-a72b-4ce5-b6cc-bc6d1770ca5b",
   "metadata": {},
   "outputs": [
    {
     "data": {
      "text/plain": [
       "array(['Art & Design', 'Art & Design;Pretend Play',\n",
       "       'Art & Design;Creativity', 'Art & Design;Action & Adventure',\n",
       "       'Auto & Vehicles', 'Beauty', 'Books & Reference', 'Business',\n",
       "       'Comics', 'Comics;Creativity', 'Communication', 'Dating',\n",
       "       'Education;Education', 'Education', 'Education;Creativity',\n",
       "       'Education;Music & Video', 'Education;Action & Adventure',\n",
       "       'Education;Pretend Play', 'Education;Brain Games', 'Entertainment',\n",
       "       'Entertainment;Music & Video', 'Entertainment;Brain Games',\n",
       "       'Entertainment;Creativity', 'Events', 'Finance', 'Food & Drink',\n",
       "       'Health & Fitness', 'House & Home', 'Libraries & Demo',\n",
       "       'Lifestyle', 'Lifestyle;Pretend Play',\n",
       "       'Adventure;Action & Adventure', 'Arcade', 'Casual', 'Card',\n",
       "       'Casual;Pretend Play', 'Action', 'Strategy', 'Puzzle', 'Sports',\n",
       "       'Music', 'Word', 'Racing', 'Casual;Creativity',\n",
       "       'Casual;Action & Adventure', 'Simulation', 'Adventure', 'Board',\n",
       "       'Trivia', 'Role Playing', 'Simulation;Education',\n",
       "       'Action;Action & Adventure', 'Casual;Brain Games',\n",
       "       'Simulation;Action & Adventure', 'Educational;Creativity',\n",
       "       'Puzzle;Brain Games', 'Educational;Education', 'Card;Brain Games',\n",
       "       'Educational;Brain Games', 'Educational;Pretend Play',\n",
       "       'Entertainment;Education', 'Casual;Education',\n",
       "       'Music;Music & Video', 'Racing;Action & Adventure',\n",
       "       'Arcade;Pretend Play', 'Role Playing;Action & Adventure',\n",
       "       'Simulation;Pretend Play', 'Puzzle;Creativity',\n",
       "       'Sports;Action & Adventure', 'Educational;Action & Adventure',\n",
       "       'Arcade;Action & Adventure', 'Entertainment;Action & Adventure',\n",
       "       'Puzzle;Action & Adventure', 'Strategy;Action & Adventure',\n",
       "       'Music & Audio;Music & Video', 'Health & Fitness;Education',\n",
       "       'Adventure;Education', 'Board;Brain Games',\n",
       "       'Board;Action & Adventure', 'Board;Pretend Play',\n",
       "       'Casual;Music & Video', 'Role Playing;Pretend Play',\n",
       "       'Entertainment;Pretend Play', 'Video Players & Editors;Creativity',\n",
       "       'Card;Action & Adventure', 'Medical', 'Social', 'Shopping',\n",
       "       'Photography', 'Travel & Local',\n",
       "       'Travel & Local;Action & Adventure', 'Tools', 'Tools;Education',\n",
       "       'Personalization', 'Productivity', 'Parenting',\n",
       "       'Parenting;Music & Video', 'Parenting;Education',\n",
       "       'Parenting;Brain Games', 'Weather', 'Video Players & Editors',\n",
       "       'Video Players & Editors;Music & Video', 'News & Magazines',\n",
       "       'Maps & Navigation', 'Health & Fitness;Action & Adventure',\n",
       "       'Educational', 'Casino', 'Adventure;Brain Games',\n",
       "       'Trivia;Education', 'Lifestyle;Education',\n",
       "       'Books & Reference;Creativity', 'Books & Reference;Education',\n",
       "       'Puzzle;Education', 'Role Playing;Education',\n",
       "       'Role Playing;Brain Games', 'Strategy;Education',\n",
       "       'Racing;Pretend Play', 'Communication;Creativity',\n",
       "       'Strategy;Creativity'], dtype=object)"
      ]
     },
     "execution_count": 51,
     "metadata": {},
     "output_type": "execute_result"
    }
   ],
   "source": [
    "df_copy[\"Genres\"].unique()"
   ]
  },
  {
   "cell_type": "markdown",
   "id": "c18606d6-ead7-4d08-a487-9c580c78a8d7",
   "metadata": {},
   "source": [
    "here columns: \"App\", \"Genres\" and \"Category\" contains many categories which are categorical so we have to apply \"Target guided Ordinal Encoding\" or \"Lebel and Ordinal Encoding\" to make them contineous."
   ]
  },
  {
   "cell_type": "code",
   "execution_count": 52,
   "id": "535f583b-0de9-40c6-bdd0-a2f29dc521cf",
   "metadata": {},
   "outputs": [
    {
     "data": {
      "text/html": [
       "<div>\n",
       "<style scoped>\n",
       "    .dataframe tbody tr th:only-of-type {\n",
       "        vertical-align: middle;\n",
       "    }\n",
       "\n",
       "    .dataframe tbody tr th {\n",
       "        vertical-align: top;\n",
       "    }\n",
       "\n",
       "    .dataframe thead th {\n",
       "        text-align: right;\n",
       "    }\n",
       "</style>\n",
       "<table border=\"1\" class=\"dataframe\">\n",
       "  <thead>\n",
       "    <tr style=\"text-align: right;\">\n",
       "      <th></th>\n",
       "      <th>App</th>\n",
       "      <th>Category</th>\n",
       "      <th>Rating</th>\n",
       "      <th>Reviews</th>\n",
       "      <th>Size</th>\n",
       "      <th>Installs</th>\n",
       "      <th>Type</th>\n",
       "      <th>Price</th>\n",
       "      <th>Content Rating</th>\n",
       "      <th>Genres</th>\n",
       "      <th>...</th>\n",
       "      <th>Year</th>\n",
       "      <th>Content Rating_Adults only 18+</th>\n",
       "      <th>Content Rating_Everyone</th>\n",
       "      <th>Content Rating_Everyone 10+</th>\n",
       "      <th>Content Rating_Mature 17+</th>\n",
       "      <th>Content Rating_Teen</th>\n",
       "      <th>Content Rating_Unrated</th>\n",
       "      <th>App encoded</th>\n",
       "      <th>Installs encoded</th>\n",
       "      <th>Genres encoded</th>\n",
       "    </tr>\n",
       "  </thead>\n",
       "  <tbody>\n",
       "    <tr>\n",
       "      <th>0</th>\n",
       "      <td>Photo Editor &amp; Candy Camera &amp; Grid &amp; ScrapBook</td>\n",
       "      <td>ART_AND_DESIGN</td>\n",
       "      <td>4.1</td>\n",
       "      <td>159</td>\n",
       "      <td>19000.0</td>\n",
       "      <td>10000</td>\n",
       "      <td>Free</td>\n",
       "      <td>0.0</td>\n",
       "      <td>Everyone</td>\n",
       "      <td>Art &amp; Design</td>\n",
       "      <td>...</td>\n",
       "      <td>2018</td>\n",
       "      <td>0.0</td>\n",
       "      <td>1.0</td>\n",
       "      <td>0.0</td>\n",
       "      <td>0.0</td>\n",
       "      <td>0.0</td>\n",
       "      <td>0.0</td>\n",
       "      <td>10000.0</td>\n",
       "      <td>10000.0</td>\n",
       "      <td>2.112553e+06</td>\n",
       "    </tr>\n",
       "    <tr>\n",
       "      <th>1</th>\n",
       "      <td>Coloring book moana</td>\n",
       "      <td>ART_AND_DESIGN</td>\n",
       "      <td>3.9</td>\n",
       "      <td>967</td>\n",
       "      <td>14000.0</td>\n",
       "      <td>500000</td>\n",
       "      <td>Free</td>\n",
       "      <td>0.0</td>\n",
       "      <td>Everyone</td>\n",
       "      <td>Art &amp; Design;Pretend Play</td>\n",
       "      <td>...</td>\n",
       "      <td>2018</td>\n",
       "      <td>0.0</td>\n",
       "      <td>1.0</td>\n",
       "      <td>0.0</td>\n",
       "      <td>0.0</td>\n",
       "      <td>0.0</td>\n",
       "      <td>0.0</td>\n",
       "      <td>500000.0</td>\n",
       "      <td>500000.0</td>\n",
       "      <td>5.000000e+05</td>\n",
       "    </tr>\n",
       "    <tr>\n",
       "      <th>2</th>\n",
       "      <td>U Launcher Lite – FREE Live Cool Themes, Hide ...</td>\n",
       "      <td>ART_AND_DESIGN</td>\n",
       "      <td>4.7</td>\n",
       "      <td>87510</td>\n",
       "      <td>8.7</td>\n",
       "      <td>5000000</td>\n",
       "      <td>Free</td>\n",
       "      <td>0.0</td>\n",
       "      <td>Everyone</td>\n",
       "      <td>Art &amp; Design</td>\n",
       "      <td>...</td>\n",
       "      <td>2018</td>\n",
       "      <td>0.0</td>\n",
       "      <td>1.0</td>\n",
       "      <td>0.0</td>\n",
       "      <td>0.0</td>\n",
       "      <td>0.0</td>\n",
       "      <td>0.0</td>\n",
       "      <td>5000000.0</td>\n",
       "      <td>5000000.0</td>\n",
       "      <td>2.112553e+06</td>\n",
       "    </tr>\n",
       "    <tr>\n",
       "      <th>3</th>\n",
       "      <td>Sketch - Draw &amp; Paint</td>\n",
       "      <td>ART_AND_DESIGN</td>\n",
       "      <td>4.5</td>\n",
       "      <td>215644</td>\n",
       "      <td>25000.0</td>\n",
       "      <td>50000000</td>\n",
       "      <td>Free</td>\n",
       "      <td>0.0</td>\n",
       "      <td>Teen</td>\n",
       "      <td>Art &amp; Design</td>\n",
       "      <td>...</td>\n",
       "      <td>2018</td>\n",
       "      <td>0.0</td>\n",
       "      <td>0.0</td>\n",
       "      <td>0.0</td>\n",
       "      <td>0.0</td>\n",
       "      <td>1.0</td>\n",
       "      <td>0.0</td>\n",
       "      <td>50000000.0</td>\n",
       "      <td>50000000.0</td>\n",
       "      <td>2.112553e+06</td>\n",
       "    </tr>\n",
       "    <tr>\n",
       "      <th>4</th>\n",
       "      <td>Pixel Draw - Number Art Coloring Book</td>\n",
       "      <td>ART_AND_DESIGN</td>\n",
       "      <td>4.3</td>\n",
       "      <td>967</td>\n",
       "      <td>2.8</td>\n",
       "      <td>100000</td>\n",
       "      <td>Free</td>\n",
       "      <td>0.0</td>\n",
       "      <td>Everyone</td>\n",
       "      <td>Art &amp; Design;Creativity</td>\n",
       "      <td>...</td>\n",
       "      <td>2018</td>\n",
       "      <td>0.0</td>\n",
       "      <td>1.0</td>\n",
       "      <td>0.0</td>\n",
       "      <td>0.0</td>\n",
       "      <td>0.0</td>\n",
       "      <td>0.0</td>\n",
       "      <td>100000.0</td>\n",
       "      <td>100000.0</td>\n",
       "      <td>3.157143e+05</td>\n",
       "    </tr>\n",
       "  </tbody>\n",
       "</table>\n",
       "<p>5 rows × 25 columns</p>\n",
       "</div>"
      ],
      "text/plain": [
       "                                                 App        Category  Rating  \\\n",
       "0     Photo Editor & Candy Camera & Grid & ScrapBook  ART_AND_DESIGN     4.1   \n",
       "1                                Coloring book moana  ART_AND_DESIGN     3.9   \n",
       "2  U Launcher Lite – FREE Live Cool Themes, Hide ...  ART_AND_DESIGN     4.7   \n",
       "3                              Sketch - Draw & Paint  ART_AND_DESIGN     4.5   \n",
       "4              Pixel Draw - Number Art Coloring Book  ART_AND_DESIGN     4.3   \n",
       "\n",
       "   Reviews     Size  Installs  Type  Price Content Rating  \\\n",
       "0      159  19000.0     10000  Free    0.0       Everyone   \n",
       "1      967  14000.0    500000  Free    0.0       Everyone   \n",
       "2    87510      8.7   5000000  Free    0.0       Everyone   \n",
       "3   215644  25000.0  50000000  Free    0.0           Teen   \n",
       "4      967      2.8    100000  Free    0.0       Everyone   \n",
       "\n",
       "                      Genres  ...  Year Content Rating_Adults only 18+  \\\n",
       "0               Art & Design  ...  2018                            0.0   \n",
       "1  Art & Design;Pretend Play  ...  2018                            0.0   \n",
       "2               Art & Design  ...  2018                            0.0   \n",
       "3               Art & Design  ...  2018                            0.0   \n",
       "4    Art & Design;Creativity  ...  2018                            0.0   \n",
       "\n",
       "  Content Rating_Everyone  Content Rating_Everyone 10+  \\\n",
       "0                     1.0                          0.0   \n",
       "1                     1.0                          0.0   \n",
       "2                     1.0                          0.0   \n",
       "3                     0.0                          0.0   \n",
       "4                     1.0                          0.0   \n",
       "\n",
       "   Content Rating_Mature 17+  Content Rating_Teen  Content Rating_Unrated  \\\n",
       "0                        0.0                  0.0                     0.0   \n",
       "1                        0.0                  0.0                     0.0   \n",
       "2                        0.0                  0.0                     0.0   \n",
       "3                        0.0                  1.0                     0.0   \n",
       "4                        0.0                  0.0                     0.0   \n",
       "\n",
       "   App encoded  Installs encoded  Genres encoded  \n",
       "0      10000.0           10000.0    2.112553e+06  \n",
       "1     500000.0          500000.0    5.000000e+05  \n",
       "2    5000000.0         5000000.0    2.112553e+06  \n",
       "3   50000000.0        50000000.0    2.112553e+06  \n",
       "4     100000.0          100000.0    3.157143e+05  \n",
       "\n",
       "[5 rows x 25 columns]"
      ]
     },
     "execution_count": 52,
     "metadata": {},
     "output_type": "execute_result"
    }
   ],
   "source": [
    "# calculate the mean installs for each \"App\"\n",
    "mean_app_installs=df_copy.groupby(\"App\")[\"Installs\"].mean().to_dict()\n",
    "# replace each \"App\" with its mean \"installs\"\n",
    "df_copy[\"App encoded\"]=df_copy[\"App\"].map(mean_app_installs)\n",
    "\n",
    "# calculate the mean installs for each \"Category\"\n",
    "mean_category_installs=df_copy.groupby(\"Installs\")[\"Installs\"].mean().to_dict()\n",
    "# replace each \"Category\" with its mean \"installs\"\n",
    "df_copy[\"Installs encoded\"]=df_copy[\"Installs\"].map(mean_category_installs)\n",
    "\n",
    "# calculate the mean installs for each \"Genres\" \n",
    "mean_genres_installs=df_copy.groupby(\"Genres\")[\"Installs\"].mean().to_dict()\n",
    "# replace each \"Genres\" with its mean \"installs\"\n",
    "df_copy[\"Genres encoded\"]=df_copy[\"Genres\"].map(mean_genres_installs)\n",
    "\n",
    "df_copy.head()"
   ]
  },
  {
   "cell_type": "code",
   "execution_count": 53,
   "id": "189803f4-b45b-4595-93d4-ab7e9fb07ed8",
   "metadata": {},
   "outputs": [
    {
     "data": {
      "text/plain": [
       "Current Ver\n",
       "Varies with device    1459\n",
       "1.0                    809\n",
       "1.1                    264\n",
       "1.2                    178\n",
       "2.0                    151\n",
       "                      ... \n",
       "5.44.1                   1\n",
       "7.16.8                   1\n",
       "04.08.00                 1\n",
       "2.10.06                  1\n",
       "2.0.148.0                1\n",
       "Name: count, Length: 2831, dtype: int64"
      ]
     },
     "execution_count": 53,
     "metadata": {},
     "output_type": "execute_result"
    }
   ],
   "source": [
    "df_copy[\"Current Ver\"].value_counts()"
   ]
  },
  {
   "cell_type": "code",
   "execution_count": 54,
   "id": "e06fa476-6f43-4965-934b-b82a31d5b8a4",
   "metadata": {},
   "outputs": [
    {
     "data": {
      "text/plain": [
       "array(['1.0.0', '2.0.0', '1.2.4', ..., '1.0.612928', '0.3.4', '2.0.148.0'],\n",
       "      dtype=object)"
      ]
     },
     "execution_count": 54,
     "metadata": {},
     "output_type": "execute_result"
    }
   ],
   "source": [
    "df_copy[\"Current Ver\"].unique()"
   ]
  },
  {
   "cell_type": "code",
   "execution_count": 55,
   "id": "f8bcbb01-8a8b-461a-a06a-4021724669b2",
   "metadata": {},
   "outputs": [],
   "source": [
    "# Fillna, the \"nan\" to aganist mode value.\n",
    "df_copy[\"Current Ver\"] = df_copy[\"Current Ver\"].fillna(df_copy[\"Current Ver\"].mode()[0])"
   ]
  },
  {
   "cell_type": "code",
   "execution_count": 56,
   "id": "fcae8ad2-d818-498b-ac62-06ecfa8051b4",
   "metadata": {},
   "outputs": [],
   "source": [
    "# Replace, the the value of \"Varies with device\" from \"Current Ver\" to mode value\n",
    "df_copy['Current Ver'] = df_copy['Current Ver'].str.replace(\"Varies with device\", df_copy['Current Ver'].mode()[0]) "
   ]
  },
  {
   "cell_type": "code",
   "execution_count": 57,
   "id": "bfb1bea7-b84c-4709-b061-a1fa9a0e6c93",
   "metadata": {},
   "outputs": [
    {
     "data": {
      "text/plain": [
       "['1.0.0',\n",
       " '2.0.0',\n",
       " '1.2.4',\n",
       " 'Varies with device',\n",
       " '1.1',\n",
       " '1.0',\n",
       " '1.1',\n",
       " '6.1.61.1',\n",
       " '2.9.2',\n",
       " '2.8',\n",
       " '1.0.4',\n",
       " '1.0.15',\n",
       " '3.8',\n",
       " '1.0.4',\n",
       " '1.2.3',\n",
       " 'Varies with device',\n",
       " '3.1',\n",
       " '1.0',\n",
       " '2.2.5',\n",
       " '5.5.4',\n",
       " '4.0',\n",
       " '1.1',\n",
       " '2.2.6.2',\n",
       " '1.0.0',\n",
       " '1.1.3',\n",
       " '1.5',\n",
       " '1.0.8',\n",
       " '1.03',\n",
       " '6.0',\n",
       " '1.0',\n",
       " '6.7.12.2018',\n",
       " '1.2',\n",
       " '2.20',\n",
       " '1.1.0',\n",
       " '1.6',\n",
       " '2.1',\n",
       " '1.0.9',\n",
       " 'Varies with device',\n",
       " '1.3',\n",
       " '1',\n",
       " '2.0.1',\n",
       " '1.0',\n",
       " 'Varies with device',\n",
       " '1.46',\n",
       " '1.0.0',\n",
       " '1.6.1',\n",
       " '1.6',\n",
       " '2.0.0',\n",
       " '1.0',\n",
       " '1.0',\n",
       " '11.0',\n",
       " '3.0',\n",
       " 'Varies with device',\n",
       " '3.0',\n",
       " '4.0',\n",
       " '1.7.1',\n",
       " '2.5.1',\n",
       " '3.0',\n",
       " '1.0.1',\n",
       " '2.493',\n",
       " '1.9.1',\n",
       " '1.7',\n",
       " '2.20 Build 02',\n",
       " '1.37',\n",
       " '1.7',\n",
       " '0.2.1',\n",
       " '1.0',\n",
       " 'Varies with device',\n",
       " 'Varies with device',\n",
       " '4.47.3',\n",
       " '1.9.7',\n",
       " '2.2.21',\n",
       " 'Varies with device',\n",
       " '2.9',\n",
       " '1.79',\n",
       " '1.3',\n",
       " '2.3.5.1',\n",
       " '1.6',\n",
       " '1.6',\n",
       " '8.31',\n",
       " '1.1.5.0',\n",
       " '10.0.2',\n",
       " '1.10.3',\n",
       " '1.0',\n",
       " '3.20.1',\n",
       " 'Varies with device',\n",
       " '1.0.3',\n",
       " '1.4',\n",
       " 'Varies with device',\n",
       " '4.6.5',\n",
       " '2.8.2',\n",
       " '4.0.3',\n",
       " 'Varies with device',\n",
       " '1.40',\n",
       " '1.5.18',\n",
       " '2.3.4',\n",
       " '1.03',\n",
       " '2.17',\n",
       " '6.10.1',\n",
       " '2.3.0',\n",
       " '4.0',\n",
       " '1.0.6',\n",
       " 'Varies with device',\n",
       " '1.6',\n",
       " '1.9',\n",
       " '1.1.0',\n",
       " '4.0',\n",
       " '5.4',\n",
       " '1.3',\n",
       " 'Varies with device',\n",
       " '2.0.0',\n",
       " '6.0',\n",
       " '3.0.1',\n",
       " '8.0',\n",
       " '3.3.9',\n",
       " '1.20',\n",
       " '2.3.09',\n",
       " 'Varies with device',\n",
       " 'Varies with device',\n",
       " '1.4.2',\n",
       " '1.0.0',\n",
       " '1.0',\n",
       " '18.5',\n",
       " '1.3',\n",
       " '1.1.0',\n",
       " '1.1.0',\n",
       " '1.15',\n",
       " '1.5',\n",
       " '1.0',\n",
       " '2.0',\n",
       " '2.0',\n",
       " '1.1',\n",
       " '1.2.13',\n",
       " '1.0.2.0',\n",
       " '3.0',\n",
       " '3.1.89',\n",
       " '2.2.0',\n",
       " '1.0',\n",
       " '1.9.2',\n",
       " 'Varies with device',\n",
       " '1.3.2',\n",
       " '1.1',\n",
       " 'Varies with device',\n",
       " 'Varies with device',\n",
       " 'Varies with device',\n",
       " 'Varies with device',\n",
       " 'Varies with device',\n",
       " '2.1',\n",
       " '3.2.1',\n",
       " 'Varies with device',\n",
       " '1.0',\n",
       " '2.0.075',\n",
       " 'Varies with device',\n",
       " '1.911805270',\n",
       " '1.0',\n",
       " '9.1.363',\n",
       " '1.1.6',\n",
       " 'Varies with device',\n",
       " '2.3.18',\n",
       " '2.2.5',\n",
       " '15.0',\n",
       " '18.05.31+530',\n",
       " 'Varies with device',\n",
       " '1.0',\n",
       " '5.0.6',\n",
       " '1.2.3',\n",
       " '3.12',\n",
       " '2.0',\n",
       " '1.28',\n",
       " '6.0.8',\n",
       " '1.0.3',\n",
       " '1.9',\n",
       " 'Varies with device',\n",
       " '9.00.950462',\n",
       " '14.0',\n",
       " '6.0',\n",
       " '3.05',\n",
       " '2.0',\n",
       " '1.5',\n",
       " 'Varies with device',\n",
       " '3.0',\n",
       " '2.5.3',\n",
       " '7.0.4.6',\n",
       " '1.15',\n",
       " '3.1.7.9',\n",
       " '1.1',\n",
       " '3.9.1',\n",
       " 'Varies with device',\n",
       " 'Varies with device',\n",
       " 'Varies with device',\n",
       " '3.4.2',\n",
       " 'Varies with device',\n",
       " 'Varies with device',\n",
       " '2.19.0.204537701',\n",
       " '9.7.14188',\n",
       " '4.9.10',\n",
       " '5.2.8',\n",
       " '3.3',\n",
       " '3.550.2',\n",
       " '4.6.30',\n",
       " '2.8',\n",
       " 'Varies with device',\n",
       " 'Varies with device',\n",
       " 'Varies with device',\n",
       " 'Varies with device',\n",
       " '7.3.21',\n",
       " '1.1.13',\n",
       " 'Varies with device',\n",
       " 'Varies with device',\n",
       " '3.0.1.11 (Build 311)',\n",
       " '5.1.5',\n",
       " 'Varies with device',\n",
       " '2.3.6',\n",
       " '4.1.28165.0716',\n",
       " 'Varies with device',\n",
       " '99.0.0.35.75',\n",
       " '12.2.4',\n",
       " '1.0.6.8',\n",
       " '3.4.5',\n",
       " '2.5.6',\n",
       " '1.12.5',\n",
       " '1.5',\n",
       " 'Varies with device',\n",
       " '4.9',\n",
       " '0.9.4',\n",
       " '1.1.07.6',\n",
       " 'Varies with device',\n",
       " '1.0.5',\n",
       " 'Varies with device',\n",
       " 'Varies with device',\n",
       " 'Varies with device',\n",
       " '1.2.6',\n",
       " '3.9.2',\n",
       " '3.4.49',\n",
       " '1.5.2',\n",
       " '3.4.6',\n",
       " 'Varies with device',\n",
       " '3.2.1',\n",
       " '1.12.0',\n",
       " '2.19.0.204537701',\n",
       " 'Varies with device',\n",
       " '1.7.14',\n",
       " '3.24.1',\n",
       " '18.7',\n",
       " '3.19.005',\n",
       " 'Varies with device',\n",
       " '4.9.1',\n",
       " '6.1.2',\n",
       " '6.4.4',\n",
       " '3.7.5',\n",
       " '2.6.158',\n",
       " '5.20.7',\n",
       " '5.20.7',\n",
       " '4.3.0.508',\n",
       " '10.46.2',\n",
       " '11.1.0',\n",
       " '4.1.28165.0716',\n",
       " '1.2.287',\n",
       " '3.0.4651',\n",
       " 'Varies with device',\n",
       " '3.1.4.0',\n",
       " '4.3.0.508',\n",
       " '3.3.0',\n",
       " '2.22.397',\n",
       " 'Varies with device',\n",
       " 'Varies with device',\n",
       " '3.2.1',\n",
       " '1.12.0',\n",
       " '2.19.0.204537701',\n",
       " 'Varies with device',\n",
       " '1.7.14',\n",
       " '3.24.1',\n",
       " '18.7',\n",
       " '3.19.005',\n",
       " 'Varies with device',\n",
       " '4.9.1',\n",
       " '6.1.2',\n",
       " '6.4.4',\n",
       " '3.7.5',\n",
       " '2.6.158',\n",
       " '5.20.7',\n",
       " '5.20.7',\n",
       " '4.3.0.508',\n",
       " '10.46.2',\n",
       " 'Varies with device',\n",
       " 'Varies with device',\n",
       " 'Varies with device',\n",
       " '1.2.6',\n",
       " '3.9.2',\n",
       " '3.4.49',\n",
       " '1.5.2',\n",
       " '3.4.6',\n",
       " 'Varies with device',\n",
       " '9.7.14188',\n",
       " 'Varies with device',\n",
       " '2.0.19',\n",
       " '18.7',\n",
       " 'Varies with device',\n",
       " '1.1.7.0',\n",
       " '2.11.3',\n",
       " '1.08',\n",
       " '1.0.6',\n",
       " '1.0.8',\n",
       " '1.5',\n",
       " '3.4.3_world',\n",
       " '1.0',\n",
       " '1.0',\n",
       " '1.9',\n",
       " '1.1',\n",
       " '3.0',\n",
       " '1.2.12',\n",
       " '6.3.0',\n",
       " '1.0',\n",
       " '2.3.1',\n",
       " '3.1.0',\n",
       " 'Varies with device',\n",
       " '4.7.3',\n",
       " '3.16.0',\n",
       " '4.1.0',\n",
       " '1.6',\n",
       " 'Varies with device',\n",
       " '6.1.1',\n",
       " '1.7.7',\n",
       " '1.0',\n",
       " '5.0.12',\n",
       " '1.0.4',\n",
       " '4.3.0',\n",
       " 'Varies with device',\n",
       " '1.3',\n",
       " '2.0',\n",
       " '4.2.0.2',\n",
       " '1.01',\n",
       " '2.3.3',\n",
       " '1.4',\n",
       " '2.4.25',\n",
       " 'Varies with device',\n",
       " 'Varies with device',\n",
       " '1.8.9',\n",
       " 'Varies with device',\n",
       " '37.0.0.7.163',\n",
       " 'Varies with device',\n",
       " 'Varies with device',\n",
       " 'Varies with device',\n",
       " '2.4.1',\n",
       " 'Varies with device',\n",
       " '5.29.3',\n",
       " '9.8.000000010492',\n",
       " '9.8.000000010501',\n",
       " '2.8.4.201036949',\n",
       " '1.3.4',\n",
       " '11.8.6',\n",
       " 'Varies with device',\n",
       " '24.6.6',\n",
       " 'Varies with device',\n",
       " 'Varies with device',\n",
       " '3.2.0.100171',\n",
       " '47.1.2249.129326',\n",
       " 'R6.0.3',\n",
       " '5.2',\n",
       " 'Varies with device',\n",
       " '69.0.3497.24',\n",
       " 'Varies with device',\n",
       " '6.7.9.1',\n",
       " 'Varies with device',\n",
       " '1.60.0.31354-release',\n",
       " 'Varies with device',\n",
       " '11.4.0',\n",
       " '2.18.116',\n",
       " '7.5.1',\n",
       " 'Varies with device',\n",
       " 'Varies with device',\n",
       " '37.1.206017801.DR37_RC14',\n",
       " '7.5.3.20547',\n",
       " 'Varies with device',\n",
       " '2.1',\n",
       " 'Varies with device',\n",
       " 'Varies with device',\n",
       " '2.2.7600',\n",
       " '12.8.5.1121',\n",
       " '9.9.0',\n",
       " '42.0.0.2059',\n",
       " 'Varies with device',\n",
       " 'Varies with device',\n",
       " '9.8.000000010501',\n",
       " '0.1.100944346',\n",
       " 'Varies with device',\n",
       " 'Varies with device',\n",
       " '6.1',\n",
       " '3.0.4',\n",
       " '7.3(800241)',\n",
       " 'Varies with device',\n",
       " 'Varies with device',\n",
       " 'Varies with device',\n",
       " 'Varies with device',\n",
       " 'Varies with device',\n",
       " '7.73',\n",
       " 'Varies with device',\n",
       " '4.98',\n",
       " '7.21',\n",
       " 'Varies with device',\n",
       " '3.47',\n",
       " 'Varies with device',\n",
       " 'Varies with device',\n",
       " 'Varies with device',\n",
       " 'Varies with device',\n",
       " '6.5.1',\n",
       " 'Varies with device',\n",
       " 'Varies with device',\n",
       " '5.2',\n",
       " '5.65.0',\n",
       " 'Varies with device',\n",
       " 'Varies with device',\n",
       " 'Varies with device',\n",
       " '5.22.18.0006',\n",
       " '7.5.3.20547',\n",
       " '47.1.2249.129326',\n",
       " '6.1',\n",
       " 'Varies with device',\n",
       " 'Varies with device',\n",
       " '11.4.0',\n",
       " '12.8.5.1121',\n",
       " '1.4.1.0',\n",
       " 'Varies with device',\n",
       " '2.2',\n",
       " '6.4.0.4',\n",
       " '4.5.1',\n",
       " '2.0',\n",
       " '7.5.3.20547',\n",
       " '5.85.1',\n",
       " '196',\n",
       " '3.0.4',\n",
       " 'Varies with device',\n",
       " '3.0.7',\n",
       " '1.26.001',\n",
       " '3.5.0',\n",
       " '8.1.2-6310',\n",
       " '5.86',\n",
       " '5.1.2-6310',\n",
       " '2018.1.715',\n",
       " '3.9.7',\n",
       " '1.286',\n",
       " '6.19.1',\n",
       " 'Varies with device',\n",
       " 'Varies with device',\n",
       " '2.17.3',\n",
       " 'Varies with device',\n",
       " '2.2.245',\n",
       " '4.5.4',\n",
       " 'Varies with device',\n",
       " 'Varies with device',\n",
       " '5.28.0',\n",
       " 'Varies with device',\n",
       " '5.29.3',\n",
       " '5.403',\n",
       " 'Varies with device',\n",
       " '1.9.4.74',\n",
       " '5.0.9',\n",
       " '9.8.376',\n",
       " '2.8',\n",
       " 'Varies with device',\n",
       " '2.3',\n",
       " '3.2.0',\n",
       " 'Varies with device',\n",
       " '2.3.17',\n",
       " 'Varies with device',\n",
       " '9.8.000000010501',\n",
       " '7.3(800241)',\n",
       " 'Varies with device',\n",
       " 'Varies with device',\n",
       " 'Varies with device',\n",
       " '2.9.8',\n",
       " '7.2.29',\n",
       " 'Varies with device',\n",
       " 'Varies with device',\n",
       " 'Varies with device',\n",
       " 'Varies with device',\n",
       " '2.6.139',\n",
       " '1.1.6',\n",
       " '1.0',\n",
       " '1.0.1',\n",
       " '1.2',\n",
       " '1.0.1',\n",
       " 'Varies with device',\n",
       " '11.10.1',\n",
       " 'Varies with device',\n",
       " '2.5.2',\n",
       " '6.1.3',\n",
       " '4.17.2',\n",
       " '3.5.0.1',\n",
       " '2.6.141',\n",
       " '4.19.0.2320',\n",
       " 'Varies with device',\n",
       " '6.6.5',\n",
       " '1.639',\n",
       " '1.6.1',\n",
       " '2.5.1',\n",
       " '1.9.7',\n",
       " '4.4B',\n",
       " '1.308.us',\n",
       " '2.4.1',\n",
       " 'Varies with device',\n",
       " '5.0.1',\n",
       " '4.17.2',\n",
       " '2.45',\n",
       " '1.6.1',\n",
       " '4.5.5',\n",
       " '1.0.4',\n",
       " '1.2.1',\n",
       " 'Varies with device',\n",
       " '4.0.18',\n",
       " '1.6.5',\n",
       " '1.31.4',\n",
       " '1.230',\n",
       " '1.9.7',\n",
       " '2.2',\n",
       " '4.17.2',\n",
       " '4.1.2',\n",
       " '15.8',\n",
       " '6.3.7',\n",
       " '1.9.7',\n",
       " '4.8.5',\n",
       " '6.4.6',\n",
       " '2.3.0.1781',\n",
       " '4.3',\n",
       " '2.9.6',\n",
       " '3.8.75a',\n",
       " '1.0.0',\n",
       " '3.0.0',\n",
       " '1.0',\n",
       " '1.0.5',\n",
       " '1.31.3',\n",
       " '1.6.6',\n",
       " 'Varies with device',\n",
       " '1.5',\n",
       " '2.0.5',\n",
       " '1.31.3',\n",
       " '2.2.0.1748',\n",
       " '3.0.15',\n",
       " '2.4.0',\n",
       " '2.0.0',\n",
       " '1.55',\n",
       " '12.0.4',\n",
       " '11.10.1',\n",
       " '4.19.0.2320',\n",
       " '2.5.2',\n",
       " '6.1.3',\n",
       " '1.15.0',\n",
       " '3.5.0.1',\n",
       " '4.17.2',\n",
       " '4.8.5',\n",
       " '2.5.1',\n",
       " '2.6.141',\n",
       " '6.4.1',\n",
       " 'Varies with device',\n",
       " '6.3.7',\n",
       " '5.2.14',\n",
       " '2.45',\n",
       " '4.1.2',\n",
       " '3.8.75a',\n",
       " '8.7.2',\n",
       " '1.6.1',\n",
       " 'Varies with device',\n",
       " '4.17.2',\n",
       " '1.1.46',\n",
       " '4.5.5',\n",
       " '2.4.1',\n",
       " '6.4.6',\n",
       " '2.8.0',\n",
       " '4.17.2',\n",
       " '3.0.0',\n",
       " '3.4.1.1',\n",
       " '2.6.139',\n",
       " '4.8.5',\n",
       " '5.5.7',\n",
       " 'Varies with device',\n",
       " '1.31.4',\n",
       " '15.8',\n",
       " '1.5.4.0',\n",
       " '4.9.2 (Oasis)',\n",
       " '1.31.3',\n",
       " '2.0.0',\n",
       " '3.10.5',\n",
       " '2.2.7',\n",
       " '1.17',\n",
       " '3.1.3',\n",
       " '0.0.73',\n",
       " '2.0.5',\n",
       " '4.7.6',\n",
       " '1.0',\n",
       " '5.2.9',\n",
       " '2.9.6',\n",
       " '4.3.2',\n",
       " '3.9.2',\n",
       " '3.6.3',\n",
       " '4.4.1',\n",
       " '5.16.2',\n",
       " '1.31.3',\n",
       " '5.3.3.13289',\n",
       " '1.17',\n",
       " '3.0.0',\n",
       " '5.0.8',\n",
       " '0.1.11',\n",
       " '1.4.0',\n",
       " '1.0.1',\n",
       " '2.4',\n",
       " '2.5',\n",
       " '8.2',\n",
       " '8.2',\n",
       " '1.0',\n",
       " '8.2',\n",
       " '4.20',\n",
       " '1.0.0',\n",
       " '3.0',\n",
       " '1.',\n",
       " '8.2',\n",
       " '2.2.9',\n",
       " '8.2',\n",
       " '1.',\n",
       " '8.2',\n",
       " '2.5',\n",
       " '1.0',\n",
       " '1.0',\n",
       " '1.3',\n",
       " '1.0',\n",
       " '3.52',\n",
       " '3.52',\n",
       " '1.0',\n",
       " '5.5.8',\n",
       " '1.0',\n",
       " '1.0',\n",
       " '1.0',\n",
       " '1.0',\n",
       " '1.0',\n",
       " '4.0',\n",
       " '8.2',\n",
       " '1.3',\n",
       " '8.2',\n",
       " '1.0',\n",
       " '1.0',\n",
       " '1.0',\n",
       " '8.2',\n",
       " '1.2',\n",
       " '1.0',\n",
       " '1.0.7',\n",
       " '1.0',\n",
       " '1.0',\n",
       " '1.1',\n",
       " '1.0',\n",
       " '8.2',\n",
       " '2.0',\n",
       " '1.0.3',\n",
       " '3.5.4.2.3',\n",
       " '1.1.1',\n",
       " '1.6',\n",
       " '1.2.9',\n",
       " '2',\n",
       " '1.5-beta',\n",
       " '1.0',\n",
       " '4.5.0',\n",
       " '6.1',\n",
       " '3.0',\n",
       " '3.7',\n",
       " '8.7.2',\n",
       " '6.3.7',\n",
       " '2.5.2',\n",
       " '1.0.1',\n",
       " '4.20',\n",
       " '1.9.7',\n",
       " '1.0.4',\n",
       " '1.0.2',\n",
       " 'Varies with device',\n",
       " '2.5',\n",
       " '1.0',\n",
       " '3.8.75a',\n",
       " '3.5.0.1',\n",
       " '4.813',\n",
       " '1.4.0',\n",
       " '5.2.9',\n",
       " '1.0.0',\n",
       " '12.0.4',\n",
       " '8.2',\n",
       " '1.0',\n",
       " '2.4',\n",
       " '1.',\n",
       " '1.2',\n",
       " '8.2',\n",
       " '8.2',\n",
       " '8.2',\n",
       " '8.2',\n",
       " '8.2',\n",
       " '1.0.5',\n",
       " '1.0.82',\n",
       " '8.2',\n",
       " '1.0.5',\n",
       " '4.1',\n",
       " '5.0.8',\n",
       " '5.0.1',\n",
       " '1.230',\n",
       " '3.7',\n",
       " 'Varies with device',\n",
       " '3.2.5',\n",
       " '3.1',\n",
       " '5.0.0',\n",
       " '1.94.9',\n",
       " '1.5',\n",
       " '1.2.8',\n",
       " '1.3.8',\n",
       " '2.1.8',\n",
       " '2.3.7',\n",
       " '2.9.0',\n",
       " '3.3',\n",
       " 'Varies with device',\n",
       " '2.16.11.10',\n",
       " 'Varies with device',\n",
       " 'Varies with device',\n",
       " '1.1.6',\n",
       " '1.2.0',\n",
       " '20.7.2',\n",
       " '2.24',\n",
       " '1.0.9',\n",
       " '2.6.2',\n",
       " '1.4.2',\n",
       " '1.2',\n",
       " '3.1',\n",
       " 'Varies with device',\n",
       " '2.51.0',\n",
       " '1.17',\n",
       " '2.2.4',\n",
       " '3.7.0',\n",
       " '3.0',\n",
       " '10',\n",
       " 'Varies with device',\n",
       " '1.1',\n",
       " '3.1',\n",
       " 'Varies with device',\n",
       " '6.0',\n",
       " '2.8.1',\n",
       " 'Varies with device',\n",
       " '5.0.0',\n",
       " '3.2.5',\n",
       " 'Varies with device',\n",
       " '5.0.4',\n",
       " 'Varies with device',\n",
       " '2.15.1',\n",
       " 'Varies with device',\n",
       " 'Varies with device',\n",
       " 'Varies with device',\n",
       " '3.14.15',\n",
       " '1.10.0',\n",
       " '4.9.10',\n",
       " 'Varies with device',\n",
       " 'Varies with device',\n",
       " '1.3.0',\n",
       " '1.1',\n",
       " '2.0',\n",
       " '3.0',\n",
       " '4.7.0',\n",
       " '5.0.4',\n",
       " '4.5.2',\n",
       " 'Varies with device',\n",
       " '5.7.2',\n",
       " '3.5.2',\n",
       " '5.5.2',\n",
       " '4.2.8',\n",
       " '3.4.2',\n",
       " '7.2.3633',\n",
       " '1.8.1',\n",
       " '7.2.3634',\n",
       " '1.1',\n",
       " '1.2.0',\n",
       " '2.9',\n",
       " 'Varies with device',\n",
       " '4.1.3',\n",
       " '2.48',\n",
       " 'Varies with device',\n",
       " '1.2',\n",
       " '3.2.0',\n",
       " 'Varies with device',\n",
       " '1.4',\n",
       " 'Varies with device',\n",
       " 'Varies with device',\n",
       " 'Varies with device',\n",
       " '5.0.0',\n",
       " '3.2.5',\n",
       " 'Varies with device',\n",
       " 'Varies with device',\n",
       " 'Varies with device',\n",
       " '5.0.4',\n",
       " '4.7.0',\n",
       " '2.15.1',\n",
       " '5.2.1',\n",
       " 'Varies with device',\n",
       " '4.9.10',\n",
       " 'Varies with device',\n",
       " 'Varies with device',\n",
       " '0.29.74',\n",
       " '20.7.2',\n",
       " 'Varies with device',\n",
       " '2.8',\n",
       " 'Varies with device',\n",
       " '10.9.1',\n",
       " '5.2.1',\n",
       " '20.7.2',\n",
       " '4.2.3',\n",
       " '2.09',\n",
       " '2.3.9',\n",
       " 'Varies with device',\n",
       " '1.94.9',\n",
       " '13.9.0.161',\n",
       " 'Varies with device',\n",
       " '3.6.0.115_FN',\n",
       " '6.1.3',\n",
       " '8.5.2',\n",
       " '1.12.1',\n",
       " 'Varies with device',\n",
       " '4.8.2',\n",
       " '2.3.1',\n",
       " '15.9.4',\n",
       " 'Varies with device',\n",
       " 'Varies with device',\n",
       " '9.12.5',\n",
       " '4.4.1',\n",
       " '5.0',\n",
       " 'Varies with device',\n",
       " 'Varies with device',\n",
       " '4.21.1',\n",
       " 'Varies with device',\n",
       " '3.1.3',\n",
       " '10.9.1',\n",
       " '2.6.6',\n",
       " '4.2.3',\n",
       " '5.2.1',\n",
       " 'Varies with device',\n",
       " '20.7.2',\n",
       " '1.16',\n",
       " '13.9.0.161',\n",
       " 'Varies with device',\n",
       " '5.7.0',\n",
       " 'Varies with device',\n",
       " 'Varies with device',\n",
       " '1.8.1',\n",
       " '2.4.4',\n",
       " 'Varies with device',\n",
       " '4.21.1',\n",
       " '2.6.6',\n",
       " 'Varies with device',\n",
       " '13.9.0.161',\n",
       " '5.2.1',\n",
       " '2.2.4',\n",
       " '1.0.2',\n",
       " '5.7.1',\n",
       " '1.0',\n",
       " '1.3',\n",
       " '1.5-play',\n",
       " '1.1.1-play',\n",
       " 'Varies with device',\n",
       " '1.02',\n",
       " 'Varies with device',\n",
       " '2.13.5',\n",
       " '3.43.3',\n",
       " '2.05.0010',\n",
       " 'Varies with device',\n",
       " 'Varies with device',\n",
       " 'v1.8b22p13',\n",
       " '3.7.3',\n",
       " 'Varies with device',\n",
       " 'Varies with device',\n",
       " 'Varies with device',\n",
       " '1.03',\n",
       " 'Varies with device',\n",
       " '4.6.2',\n",
       " '5.2',\n",
       " '4.0.5',\n",
       " 'Varies with device',\n",
       " '2.8.2',\n",
       " 'Varies with device',\n",
       " 'Varies with device',\n",
       " '7.3',\n",
       " 'Varies with device',\n",
       " '2.6.6.11',\n",
       " '2.2',\n",
       " '1.2.0',\n",
       " '1.1.3.2',\n",
       " '9.1.4',\n",
       " '1.0.9',\n",
       " 'Varies with device',\n",
       " '3.0.231.18141',\n",
       " '1.7',\n",
       " 'Varies with device',\n",
       " 'Varies with device',\n",
       " '2.3.34 Prod',\n",
       " '2.08.78.2',\n",
       " '18.07.0',\n",
       " '3.5.2.2',\n",
       " 'Varies with device',\n",
       " '2.2.0',\n",
       " '2.19.0',\n",
       " 'Varies with device',\n",
       " '9.1.4',\n",
       " 'Varies with device',\n",
       " '2.9.43',\n",
       " '2.1.1',\n",
       " '6.18.3',\n",
       " 'Varies with device',\n",
       " 'Varies with device',\n",
       " 'Varies with device',\n",
       " 'Varies with device',\n",
       " '2.9.4',\n",
       " 'Varies with device',\n",
       " '01.01.66',\n",
       " 'Varies with device',\n",
       " '2.9.4',\n",
       " 'Varies with device',\n",
       " '4.8.6',\n",
       " 'Varies with device',\n",
       " '2.0.0',\n",
       " '3.1.4',\n",
       " '2.0.8',\n",
       " '11.45.0',\n",
       " 'Varies with device',\n",
       " '3.1.4',\n",
       " '2.17',\n",
       " '11.45.0',\n",
       " 'Varies with device',\n",
       " 'Varies with device',\n",
       " '8.0626',\n",
       " 'Varies with device',\n",
       " '3.1.4',\n",
       " '43',\n",
       " '11.45.0',\n",
       " 'Varies with device',\n",
       " 'Varies with device',\n",
       " '2.13.5',\n",
       " 'Varies with device',\n",
       " 'Varies with device',\n",
       " 'Varies with device',\n",
       " '4.8.6',\n",
       " '2.0.8',\n",
       " 'Varies with device',\n",
       " 'Varies with device',\n",
       " '2.17',\n",
       " '1.16',\n",
       " '4.18.1',\n",
       " '3.1.4',\n",
       " 'Varies with device',\n",
       " '3.17.2',\n",
       " '3.1.4',\n",
       " '11.45.0',\n",
       " '3.3.1.41',\n",
       " '11.45.0',\n",
       " '3.1.4',\n",
       " '11.45.0',\n",
       " '4.0.2',\n",
       " '16.0.0.437',\n",
       " 'Varies with device',\n",
       " 'Varies with device',\n",
       " '6.6.1',\n",
       " '3.3.1.42',\n",
       " 'Varies with device',\n",
       " '2.13.5',\n",
       " 'Varies with device',\n",
       " 'Varies with device',\n",
       " 'Varies with device',\n",
       " '2.0.8',\n",
       " 'Varies with device',\n",
       " 'Varies with device',\n",
       " 'Varies with device',\n",
       " 'Varies with device',\n",
       " '9.1.4',\n",
       " 'Varies with device',\n",
       " '3.1.4',\n",
       " 'Varies with device',\n",
       " '2.17',\n",
       " '7.5.0',\n",
       " '8.0626',\n",
       " 'Varies with device',\n",
       " '4.003.1',\n",
       " '3.1.4',\n",
       " '11.45.0',\n",
       " 'Varies with device',\n",
       " '11.45.0',\n",
       " '3.1.4',\n",
       " '11.45.0',\n",
       " '11.45.0',\n",
       " '6.6.1',\n",
       " '3.3.1.42',\n",
       " '1.0.20',\n",
       " '1.2.3',\n",
       " 'Varies with device',\n",
       " 'Varies with device',\n",
       " '1.6.1',\n",
       " '1.0.64',\n",
       " '2.0.8',\n",
       " 'Varies with device',\n",
       " '2.3.2',\n",
       " 'Varies with device',\n",
       " 'Varies with device',\n",
       " '8.1',\n",
       " '4.0',\n",
       " '7.2.3',\n",
       " ...]"
      ]
     },
     "execution_count": 57,
     "metadata": {},
     "output_type": "execute_result"
    }
   ],
   "source": [
    "df_cv=df_copy[\"Current Ver\"]\n",
    "cv_list=df_cv.values.tolist()\n",
    "cv_list"
   ]
  },
  {
   "cell_type": "code",
   "execution_count": 58,
   "id": "e2d8d380-2880-4e2d-896e-cd72dfe99a76",
   "metadata": {},
   "outputs": [],
   "source": [
    "cv_list0=[]\n",
    "for i in cv_list:\n",
    "    i=i[:3]\n",
    "    cv_list0.append(i)"
   ]
  },
  {
   "cell_type": "code",
   "execution_count": 59,
   "id": "ae305e36-fe8f-4011-b881-11f91945aaf2",
   "metadata": {},
   "outputs": [],
   "source": [
    "df_copy[\"Current Ver\"]=pd.DataFrame(cv_list0)\n",
    "\n",
    "# Fillna, the \"nan\" to aganist mode value.\n",
    "df_copy[\"Current Ver\"] = df_copy[\"Current Ver\"].fillna(df_copy[\"Current Ver\"].mode()[0])"
   ]
  },
  {
   "cell_type": "code",
   "execution_count": 60,
   "id": "8262f416-1385-488d-9479-afaf76e4ef5d",
   "metadata": {},
   "outputs": [
    {
     "data": {
      "text/plain": [
       "array(['1.0', '2.0', '1.2', '1.1', '6.1', '2.9', '2.8', '3.8', '3.1',\n",
       "       '2.2', '5.5', '4.0', '1.5', '6.0', '6.7', '1.6', '2.1', '1.3', '1',\n",
       "       '1.4', '11.', '3.0', '1.7', '2.5', '2.4', '1.9', '0.2', '4.4',\n",
       "       '2.3', '8.3', '10.', '3.2', '4.6', '5.4', '8.0', '3.3', '18.',\n",
       "       '9.1', '15.', '5.0', '9.0', '14.', '7.0', '3.9', '3.4', '9.7',\n",
       "       '4.9', '5.2', '3.5', '7.3', '5.1', '4.1', '99.', '12.', '0.9',\n",
       "       '6.4', '3.7', '2.6', '4.3', '6.3', '4.7', '4.2', '1.8', '37.',\n",
       "       '9.8', '24.', '47.', '69.', '7.5', '9.9', '42.', '0.1', '7.7',\n",
       "       '7.2', '6.5', '5.6', '4.5', '5.8', '196', '8.1', '201', '6.6',\n",
       "       '4.8', '8.7', '0.0', '3.6', '5.3', '8.2', '1.', '2', '20.', '10',\n",
       "       '5.7', '13.', '8.5', '01.', '43', '16.', '8.4', '6.8', '6.2',\n",
       "       '2.7', '5.9', '7.8', '7.1', '7.9', '112', '37', '8.8', '7.4',\n",
       "       '9.6', '220', '858', '02.', '9.4', '319', '542', '0.7', '0.5',\n",
       "       '19.', '79.', '108', '8', '57.', '60', '149', '378', '28.', '7.6',\n",
       "       '7', '25.', '300', '0.6', '43.', '50.', '27.', '29.', '8.9', '6.9',\n",
       "       '584', '22.', '9.3', '71', '100', '06.', '17.', '9.2', '8.6',\n",
       "       '53.', '32.', '40.', '68.', '30', '9.5', '116', '04.', '0.8',\n",
       "       '275', '505', '0.4', '31', '190', '23.', '180', '32', '12', '4',\n",
       "       '263', '6', '65.', '5', '25', '125', '117', '30.', '132', '20',\n",
       "       '0.3', '568', '39.', '666', '13', '250', '26.', '35.', '31.', '3',\n",
       "       '106', '102', '70.', '41.', '202', '48', '11', '60.', '200', '700',\n",
       "       '67', '47', '33.', '454', '130', '56', '23', '21.', '314', '36',\n",
       "       '81', '176', '060', '68', '14', '34', '9', '15'], dtype=object)"
      ]
     },
     "execution_count": 60,
     "metadata": {},
     "output_type": "execute_result"
    }
   ],
   "source": [
    "df_copy[df_copy[\"Current Ver\"].str.replace(\".\", \"\").str.isnumeric()][\"Current Ver\"].unique()"
   ]
  },
  {
   "cell_type": "code",
   "execution_count": 61,
   "id": "01d5a0e4-f9b1-4168-87b4-6a6e7b1c9ae1",
   "metadata": {},
   "outputs": [
    {
     "data": {
      "text/plain": [
       "array(['Var', 'R6.', 'v1.', 'Can', 'p5.', 'Pub', 'v3.', 'Ver', '1_3',\n",
       "       'PN.', 'Ini', 'T4.', 'v5.', 'MyM', 'v8.', 'v7.', 'v15', 'Fre',\n",
       "       'Nat', 'ver', 'a.2', 'v8[', '1,0', 'v20', 'H7S', 'v2', 'acr',\n",
       "       'v67', 'air', '11;', 'v4.', 'cli', 'v2.', 'clo', 'new', 'Z (',\n",
       "       'Cow', '3_1', 'Fin', 'Arr', 'BL ', 'Roc', 'V1.', 'V2.', 'no_',\n",
       "       'opc', 'v6.', '01e', 'fcb', 'The', 'CL ', 'Bow', 'App', 'Cop',\n",
       "       'Gra', 'Rel', 'Y4W', 'Sol', 'KM', 'iu4', 'IND', 'And', 'Tra',\n",
       "       'Glu', 'v3', 'DH-', 'HTT', '21 ', 'DPS', '15|', 'di-', 'r2.',\n",
       "       'pb1', 'R1.', 'Hum', 'eri', 'Bui', 'Pai', 'Fen', 'Blu', 'Pro',\n",
       "       'V1-', 'MON', 'F2i', 'V4.', 'FH ', '3rd'], dtype=object)"
      ]
     },
     "execution_count": 61,
     "metadata": {},
     "output_type": "execute_result"
    }
   ],
   "source": [
    "df_copy[~df_copy[\"Current Ver\"].str.replace(\".\", \"\").str.isnumeric()][\"Current Ver\"].unique()"
   ]
  },
  {
   "cell_type": "code",
   "execution_count": 62,
   "id": "7a9c579b-c9c6-42de-a561-2ca5cda6e794",
   "metadata": {},
   "outputs": [],
   "source": [
    "#cv_list3=[]\n",
    "#con=[['0'],['1'],['2'],['3'],['4'],['5'],['6'],['7'],['8'],['9'],['0'],['.']]\n",
    "#for n in cv_list2:\n",
    " #   for m in range(len(con)):\n",
    "  #      if n[0] != con[m]:\n",
    "   #         cv_list3.append(n)\n",
    "#list3df[\"b\"]=pd.DataFrame(cv_list3)\n",
    "#list3df[\"b\"].unique()"
   ]
  },
  {
   "cell_type": "code",
   "execution_count": 63,
   "id": "e0db5136-7de6-4175-b12c-78589f22f9b2",
   "metadata": {},
   "outputs": [
    {
     "data": {
      "text/plain": [
       "Android Ver\n",
       "4.1 and up            2451\n",
       "4.0.3 and up          1501\n",
       "4.0 and up            1375\n",
       "Varies with device    1362\n",
       "4.4 and up             980\n",
       "2.3 and up             652\n",
       "5.0 and up             601\n",
       "4.2 and up             394\n",
       "2.3.3 and up           281\n",
       "2.2 and up             244\n",
       "4.3 and up             243\n",
       "3.0 and up             241\n",
       "2.1 and up             134\n",
       "1.6 and up             116\n",
       "6.0 and up              60\n",
       "7.0 and up              42\n",
       "3.2 and up              36\n",
       "2.0 and up              32\n",
       "5.1 and up              24\n",
       "1.5 and up              20\n",
       "4.4W and up             12\n",
       "3.1 and up              10\n",
       "2.0.1 and up             7\n",
       "8.0 and up               6\n",
       "7.1 and up               3\n",
       "4.0.3 - 7.1.1            2\n",
       "5.0 - 8.0                2\n",
       "1.0 and up               2\n",
       "7.0 - 7.1.1              1\n",
       "4.1 - 7.1.1              1\n",
       "5.0 - 6.0                1\n",
       "2.2 - 7.1.1              1\n",
       "5.0 - 7.1.1              1\n",
       "Name: count, dtype: int64"
      ]
     },
     "execution_count": 63,
     "metadata": {},
     "output_type": "execute_result"
    }
   ],
   "source": [
    "df_copy[\"Android Ver\"].value_counts()"
   ]
  },
  {
   "cell_type": "code",
   "execution_count": 64,
   "id": "8598ce09-1591-4ad6-b3d0-5936b5190f97",
   "metadata": {},
   "outputs": [
    {
     "data": {
      "text/plain": [
       "array(['4.0.3 and up', '4.2 and up', '4.4 and up', '2.3 and up',\n",
       "       '3.0 and up', '4.1 and up', '4.0 and up', '2.3.3 and up',\n",
       "       'Varies with device', '2.2 and up', '5.0 and up', '6.0 and up',\n",
       "       '1.6 and up', '1.5 and up', '2.1 and up', '7.0 and up',\n",
       "       '5.1 and up', '4.3 and up', '4.0.3 - 7.1.1', '2.0 and up',\n",
       "       '3.2 and up', '4.4W and up', '7.1 and up', '7.0 - 7.1.1',\n",
       "       '8.0 and up', '5.0 - 8.0', '3.1 and up', '2.0.1 and up',\n",
       "       '4.1 - 7.1.1', nan, '5.0 - 6.0', '1.0 and up', '2.2 - 7.1.1',\n",
       "       '5.0 - 7.1.1'], dtype=object)"
      ]
     },
     "execution_count": 64,
     "metadata": {},
     "output_type": "execute_result"
    }
   ],
   "source": [
    "df_copy[\"Android Ver\"].unique()"
   ]
  },
  {
   "cell_type": "markdown",
   "id": "4c2836eb-d655-4053-a702-44fdbca3c841",
   "metadata": {},
   "source": [
    "\"Android Ver\" and \"Current Ver\" cloumns contains categories which can be converted to contineous."
   ]
  },
  {
   "cell_type": "code",
   "execution_count": 65,
   "id": "af665728-5bc8-4144-938a-6323fd3fe475",
   "metadata": {},
   "outputs": [],
   "source": [
    "# Replace, the the value of \"Varies with device\" from \"Android Ver\" to mode value\n",
    "df_copy['Android Ver'] = df_copy['Android Ver'].str.replace(\"Varies with device\", df_copy['Android Ver'].mode()[0]) "
   ]
  },
  {
   "cell_type": "code",
   "execution_count": 66,
   "id": "c952019c-a940-4c98-8230-bcbc3d0eea6d",
   "metadata": {},
   "outputs": [],
   "source": [
    "# Replace, the value \"W and up\" from \"Android Ver\" to empty string\n",
    "df_copy[\"Android Ver\"] = df_copy[\"Android Ver\"].str.replace(\"W and up\", \"\")\n",
    "# Replace, the value \" and up\" from \"android_version\" to empty string\n",
    "df_copy['Android Ver'] = df_copy['Android Ver'].str.replace(' and up', '')"
   ]
  },
  {
   "cell_type": "code",
   "execution_count": 67,
   "id": "7a996a32-b0c4-42db-b224-bf082e1db971",
   "metadata": {},
   "outputs": [
    {
     "data": {
      "text/plain": [
       "array(['4.0.3', '4.2', '4.4', '2.3', '3.0', '4.1', '4.0', '2.3.3', '2.2',\n",
       "       '5.0', '6.0', '1.6', '1.5', '2.1', '7.0', '5.1', '4.3',\n",
       "       '4.0.3 - 7.1.1', '2.0', '3.2', '7.1', '7.0 - 7.1.1', '8.0',\n",
       "       '5.0 - 8.0', '3.1', '2.0.1', '4.1 - 7.1.1', nan, '5.0 - 6.0',\n",
       "       '1.0', '2.2 - 7.1.1', '5.0 - 7.1.1'], dtype=object)"
      ]
     },
     "execution_count": 67,
     "metadata": {},
     "output_type": "execute_result"
    }
   ],
   "source": [
    "df_copy[\"Android Ver\"].unique()"
   ]
  },
  {
   "cell_type": "code",
   "execution_count": 68,
   "id": "0fda1663-1a85-487f-a773-4b06b6b1056a",
   "metadata": {},
   "outputs": [],
   "source": [
    "# Fillna, the \"nan\" to aganist mode value.\n",
    "df_copy[\"Android Ver\"] = df_copy[\"Android Ver\"].fillna(df_copy[\"Android Ver\"].mode()[0])"
   ]
  },
  {
   "cell_type": "code",
   "execution_count": 69,
   "id": "dca8f92e-a423-4677-9cef-b6eb82bc9065",
   "metadata": {},
   "outputs": [],
   "source": [
    "# Replace, the values [\" - 7.1.1\", \" - 6.0\", \" - 8.0\"] from \"android_version\" column\n",
    "df_copy[\"Android Ver\"] = df_copy[\"Android Ver\"].str.replace(\" - 7.1.1\", \"\")\n",
    "df_copy[\"Android Ver\"] = df_copy[\"Android Ver\"].str.replace(\" - 6.0\", \"\")\n",
    "df_copy[\"Android Ver\"] = df_copy[\"Android Ver\"].str.replace(\" - 8.0\", \"\")"
   ]
  },
  {
   "cell_type": "code",
   "execution_count": 70,
   "id": "0a460e62-bf0f-454b-97ad-3c790124dad5",
   "metadata": {},
   "outputs": [],
   "source": [
    "# Replace, the values with two decimal points from \"android_version\" column\n",
    "df_copy[\"Android Ver\"] = df_copy['Android Ver'].str.replace(\"4.0.3\", \"4.0\")\n",
    "df_copy[\"Android Ver\"] = df_copy['Android Ver'].str.replace(\"2.3.3\", \"2.3\")\n",
    "df_copy[\"Android Ver\"] = df_copy['Android Ver'].str.replace(\"2.0.1\", \"2.0\")"
   ]
  },
  {
   "cell_type": "code",
   "execution_count": 71,
   "id": "27b73104-7de6-4b5e-bcbe-711381e5bf2c",
   "metadata": {},
   "outputs": [
    {
     "data": {
      "text/plain": [
       "array(['4.0', '4.2', '4.4', '2.3', '3.0', '4.1', '2.2', '5.0', '6.0',\n",
       "       '1.6', '1.5', '2.1', '7.0', '5.1', '4.3', '2.0', '3.2', '7.1',\n",
       "       '8.0', '3.1', '1.0'], dtype=object)"
      ]
     },
     "execution_count": 71,
     "metadata": {},
     "output_type": "execute_result"
    }
   ],
   "source": [
    "# Again, show unique values in \"android_version\" column\n",
    "df_copy['Android Ver'].unique()"
   ]
  },
  {
   "cell_type": "code",
   "execution_count": 72,
   "id": "00d29daf-675f-430c-b8b1-a357e864490e",
   "metadata": {},
   "outputs": [],
   "source": [
    "# Convert, the dtype of \"android_version\" column\n",
    "df_copy[\"Android Ver\"] = df_copy[\"Android Ver\"].astype(float)"
   ]
  },
  {
   "cell_type": "markdown",
   "id": "749caf29-9b26-461a-ac05-508a65f00d40",
   "metadata": {},
   "source": [
    "here we have sucessfully filter the \"Android Ver\" column."
   ]
  },
  {
   "cell_type": "code",
   "execution_count": 73,
   "id": "78cb61e0-2448-4a22-bf38-13e4493669a3",
   "metadata": {},
   "outputs": [
    {
     "data": {
      "text/plain": [
       "Type\n",
       "Free    10039\n",
       "Paid      800\n",
       "Name: count, dtype: int64"
      ]
     },
     "execution_count": 73,
     "metadata": {},
     "output_type": "execute_result"
    }
   ],
   "source": [
    "df_copy[\"Type\"].value_counts()"
   ]
  },
  {
   "cell_type": "code",
   "execution_count": 74,
   "id": "5040ee36-2114-4f4d-8d11-7142ec74a8ce",
   "metadata": {},
   "outputs": [
    {
     "data": {
      "text/plain": [
       "Text(0.5, 1.0, 'Free & Paid')"
      ]
     },
     "execution_count": 74,
     "metadata": {},
     "output_type": "execute_result"
    },
    {
     "data": {
      "image/png": "[encoded data removed]",
      "text/plain": [
       "<Figure size 640x480 with 1 Axes>"
      ]
     },
     "metadata": {},
     "output_type": "display_data"
    }
   ],
   "source": [
    "df[\"Type\"].value_counts().plot(kind=\"bar\", color =\"red\")\n",
    "plt.title(\"Free & Paid\")"
   ]
  },
  {
   "cell_type": "markdown",
   "id": "df8aeb61-8ad0-486f-93bb-18d5eb71f305",
   "metadata": {},
   "source": [
    "With this bar-plot we can conclude that there are large number of \"Free\" type then \"Paid\" type."
   ]
  },
  {
   "cell_type": "code",
   "execution_count": 75,
   "id": "94d84717-3af2-4181-9b91-e13e563f98ae",
   "metadata": {},
   "outputs": [
    {
     "data": {
      "text/plain": [
       "Text(0.5, 1.0, 'Content rating with their counts')"
      ]
     },
     "execution_count": 75,
     "metadata": {},
     "output_type": "execute_result"
    },
    {
     "data": {
      "image/png": "[encoded data removed]",
      "text/plain": [
       "<Figure size 640x480 with 1 Axes>"
      ]
     },
     "metadata": {},
     "output_type": "display_data"
    }
   ],
   "source": [
    "sns.boxplot(x = \"Type\", y = \"Rating\", data = df)\n",
    "plt.title(\"Content rating with their counts\")"
   ]
  },
  {
   "cell_type": "code",
   "execution_count": 76,
   "id": "d236cc5b-811b-4548-bdb4-0a6c036b4ebc",
   "metadata": {},
   "outputs": [
    {
     "data": {
      "text/html": [
       "<div>\n",
       "<style scoped>\n",
       "    .dataframe tbody tr th:only-of-type {\n",
       "        vertical-align: middle;\n",
       "    }\n",
       "\n",
       "    .dataframe tbody tr th {\n",
       "        vertical-align: top;\n",
       "    }\n",
       "\n",
       "    .dataframe thead th {\n",
       "        text-align: right;\n",
       "    }\n",
       "</style>\n",
       "<table border=\"1\" class=\"dataframe\">\n",
       "  <thead>\n",
       "    <tr style=\"text-align: right;\">\n",
       "      <th></th>\n",
       "      <th>App</th>\n",
       "      <th>Category</th>\n",
       "      <th>Rating</th>\n",
       "      <th>Reviews</th>\n",
       "      <th>Size</th>\n",
       "      <th>Installs</th>\n",
       "      <th>Type</th>\n",
       "      <th>Price</th>\n",
       "      <th>Content Rating</th>\n",
       "      <th>Genres</th>\n",
       "      <th>...</th>\n",
       "      <th>Year</th>\n",
       "      <th>Content Rating_Adults only 18+</th>\n",
       "      <th>Content Rating_Everyone</th>\n",
       "      <th>Content Rating_Everyone 10+</th>\n",
       "      <th>Content Rating_Mature 17+</th>\n",
       "      <th>Content Rating_Teen</th>\n",
       "      <th>Content Rating_Unrated</th>\n",
       "      <th>App encoded</th>\n",
       "      <th>Installs encoded</th>\n",
       "      <th>Genres encoded</th>\n",
       "    </tr>\n",
       "  </thead>\n",
       "  <tbody>\n",
       "    <tr>\n",
       "      <th>0</th>\n",
       "      <td>Photo Editor &amp; Candy Camera &amp; Grid &amp; ScrapBook</td>\n",
       "      <td>ART_AND_DESIGN</td>\n",
       "      <td>4.1</td>\n",
       "      <td>159</td>\n",
       "      <td>19000.0</td>\n",
       "      <td>10000</td>\n",
       "      <td>0.0</td>\n",
       "      <td>0.0</td>\n",
       "      <td>Everyone</td>\n",
       "      <td>Art &amp; Design</td>\n",
       "      <td>...</td>\n",
       "      <td>2018</td>\n",
       "      <td>0.0</td>\n",
       "      <td>1.0</td>\n",
       "      <td>0.0</td>\n",
       "      <td>0.0</td>\n",
       "      <td>0.0</td>\n",
       "      <td>0.0</td>\n",
       "      <td>10000.0</td>\n",
       "      <td>10000.0</td>\n",
       "      <td>2.112553e+06</td>\n",
       "    </tr>\n",
       "    <tr>\n",
       "      <th>1</th>\n",
       "      <td>Coloring book moana</td>\n",
       "      <td>ART_AND_DESIGN</td>\n",
       "      <td>3.9</td>\n",
       "      <td>967</td>\n",
       "      <td>14000.0</td>\n",
       "      <td>500000</td>\n",
       "      <td>0.0</td>\n",
       "      <td>0.0</td>\n",
       "      <td>Everyone</td>\n",
       "      <td>Art &amp; Design;Pretend Play</td>\n",
       "      <td>...</td>\n",
       "      <td>2018</td>\n",
       "      <td>0.0</td>\n",
       "      <td>1.0</td>\n",
       "      <td>0.0</td>\n",
       "      <td>0.0</td>\n",
       "      <td>0.0</td>\n",
       "      <td>0.0</td>\n",
       "      <td>500000.0</td>\n",
       "      <td>500000.0</td>\n",
       "      <td>5.000000e+05</td>\n",
       "    </tr>\n",
       "    <tr>\n",
       "      <th>2</th>\n",
       "      <td>U Launcher Lite – FREE Live Cool Themes, Hide ...</td>\n",
       "      <td>ART_AND_DESIGN</td>\n",
       "      <td>4.7</td>\n",
       "      <td>87510</td>\n",
       "      <td>8.7</td>\n",
       "      <td>5000000</td>\n",
       "      <td>0.0</td>\n",
       "      <td>0.0</td>\n",
       "      <td>Everyone</td>\n",
       "      <td>Art &amp; Design</td>\n",
       "      <td>...</td>\n",
       "      <td>2018</td>\n",
       "      <td>0.0</td>\n",
       "      <td>1.0</td>\n",
       "      <td>0.0</td>\n",
       "      <td>0.0</td>\n",
       "      <td>0.0</td>\n",
       "      <td>0.0</td>\n",
       "      <td>5000000.0</td>\n",
       "      <td>5000000.0</td>\n",
       "      <td>2.112553e+06</td>\n",
       "    </tr>\n",
       "    <tr>\n",
       "      <th>3</th>\n",
       "      <td>Sketch - Draw &amp; Paint</td>\n",
       "      <td>ART_AND_DESIGN</td>\n",
       "      <td>4.5</td>\n",
       "      <td>215644</td>\n",
       "      <td>25000.0</td>\n",
       "      <td>50000000</td>\n",
       "      <td>0.0</td>\n",
       "      <td>0.0</td>\n",
       "      <td>Teen</td>\n",
       "      <td>Art &amp; Design</td>\n",
       "      <td>...</td>\n",
       "      <td>2018</td>\n",
       "      <td>0.0</td>\n",
       "      <td>0.0</td>\n",
       "      <td>0.0</td>\n",
       "      <td>0.0</td>\n",
       "      <td>1.0</td>\n",
       "      <td>0.0</td>\n",
       "      <td>50000000.0</td>\n",
       "      <td>50000000.0</td>\n",
       "      <td>2.112553e+06</td>\n",
       "    </tr>\n",
       "    <tr>\n",
       "      <th>4</th>\n",
       "      <td>Pixel Draw - Number Art Coloring Book</td>\n",
       "      <td>ART_AND_DESIGN</td>\n",
       "      <td>4.3</td>\n",
       "      <td>967</td>\n",
       "      <td>2.8</td>\n",
       "      <td>100000</td>\n",
       "      <td>0.0</td>\n",
       "      <td>0.0</td>\n",
       "      <td>Everyone</td>\n",
       "      <td>Art &amp; Design;Creativity</td>\n",
       "      <td>...</td>\n",
       "      <td>2018</td>\n",
       "      <td>0.0</td>\n",
       "      <td>1.0</td>\n",
       "      <td>0.0</td>\n",
       "      <td>0.0</td>\n",
       "      <td>0.0</td>\n",
       "      <td>0.0</td>\n",
       "      <td>100000.0</td>\n",
       "      <td>100000.0</td>\n",
       "      <td>3.157143e+05</td>\n",
       "    </tr>\n",
       "  </tbody>\n",
       "</table>\n",
       "<p>5 rows × 25 columns</p>\n",
       "</div>"
      ],
      "text/plain": [
       "                                                 App        Category  Rating  \\\n",
       "0     Photo Editor & Candy Camera & Grid & ScrapBook  ART_AND_DESIGN     4.1   \n",
       "1                                Coloring book moana  ART_AND_DESIGN     3.9   \n",
       "2  U Launcher Lite – FREE Live Cool Themes, Hide ...  ART_AND_DESIGN     4.7   \n",
       "3                              Sketch - Draw & Paint  ART_AND_DESIGN     4.5   \n",
       "4              Pixel Draw - Number Art Coloring Book  ART_AND_DESIGN     4.3   \n",
       "\n",
       "   Reviews     Size  Installs  Type  Price Content Rating  \\\n",
       "0      159  19000.0     10000   0.0    0.0       Everyone   \n",
       "1      967  14000.0    500000   0.0    0.0       Everyone   \n",
       "2    87510      8.7   5000000   0.0    0.0       Everyone   \n",
       "3   215644  25000.0  50000000   0.0    0.0           Teen   \n",
       "4      967      2.8    100000   0.0    0.0       Everyone   \n",
       "\n",
       "                      Genres  ...  Year Content Rating_Adults only 18+  \\\n",
       "0               Art & Design  ...  2018                            0.0   \n",
       "1  Art & Design;Pretend Play  ...  2018                            0.0   \n",
       "2               Art & Design  ...  2018                            0.0   \n",
       "3               Art & Design  ...  2018                            0.0   \n",
       "4    Art & Design;Creativity  ...  2018                            0.0   \n",
       "\n",
       "   Content Rating_Everyone  Content Rating_Everyone 10+  \\\n",
       "0                      1.0                          0.0   \n",
       "1                      1.0                          0.0   \n",
       "2                      1.0                          0.0   \n",
       "3                      0.0                          0.0   \n",
       "4                      1.0                          0.0   \n",
       "\n",
       "   Content Rating_Mature 17+  Content Rating_Teen  Content Rating_Unrated  \\\n",
       "0                        0.0                  0.0                     0.0   \n",
       "1                        0.0                  0.0                     0.0   \n",
       "2                        0.0                  0.0                     0.0   \n",
       "3                        0.0                  1.0                     0.0   \n",
       "4                        0.0                  0.0                     0.0   \n",
       "\n",
       "   App encoded  Installs encoded  Genres encoded  \n",
       "0      10000.0           10000.0    2.112553e+06  \n",
       "1     500000.0          500000.0    5.000000e+05  \n",
       "2    5000000.0         5000000.0    2.112553e+06  \n",
       "3   50000000.0        50000000.0    2.112553e+06  \n",
       "4     100000.0          100000.0    3.157143e+05  \n",
       "\n",
       "[5 rows x 25 columns]"
      ]
     },
     "execution_count": 76,
     "metadata": {},
     "output_type": "execute_result"
    }
   ],
   "source": [
    "df_copy['Type'].replace(['Free', 'Paid'],\n",
    "                        [0, 1], inplace=True)\n",
    "df_copy[\"Type\"] = df_copy[\"Type\"].fillna(df_copy[\"Type\"].mode()[0])\n",
    "df_copy.head()"
   ]
  },
  {
   "cell_type": "markdown",
   "id": "339bf439-b1bb-4aaa-84b2-b5c35f8e8d48",
   "metadata": {},
   "source": [
    "\"Type\" column have only two categories so we can replace them with 0 and 1."
   ]
  },
  {
   "cell_type": "code",
   "execution_count": 77,
   "id": "c354627f-cf13-4a1d-8b5f-576c119da880",
   "metadata": {},
   "outputs": [
    {
     "data": {
      "text/plain": [
       "482"
      ]
     },
     "execution_count": 77,
     "metadata": {},
     "output_type": "execute_result"
    }
   ],
   "source": [
    "df_copy.duplicated().sum()"
   ]
  },
  {
   "cell_type": "markdown",
   "id": "5393fb80-ba07-46a5-889e-57a04592046b",
   "metadata": {},
   "source": [
    "we have 483 duplicate columns, let's remove them."
   ]
  },
  {
   "cell_type": "code",
   "execution_count": 78,
   "id": "6a0093cb-9817-4a0f-b529-4e9d83076c39",
   "metadata": {},
   "outputs": [],
   "source": [
    "df_copy = df_copy.drop_duplicates()\n",
    "df_copy = df_copy.reset_index(drop=True)"
   ]
  },
  {
   "cell_type": "code",
   "execution_count": 79,
   "id": "2b53bb53-1498-4cd7-b1eb-09b5649c93e0",
   "metadata": {},
   "outputs": [
    {
     "data": {
      "text/plain": [
       "0"
      ]
     },
     "execution_count": 79,
     "metadata": {},
     "output_type": "execute_result"
    }
   ],
   "source": [
    "df_copy.duplicated().sum()"
   ]
  },
  {
   "cell_type": "markdown",
   "id": "19f0b6ac-5f59-40ae-9f27-9e054bf78a8e",
   "metadata": {},
   "source": [
    "now there are 0 duplicates. earlier we saw column \"Rating\" and \"Size\" contain a large amount null values, let's remove them."
   ]
  },
  {
   "cell_type": "code",
   "execution_count": 80,
   "id": "7e13f68b-71bc-4cc2-9ff6-1ce46ad84ba8",
   "metadata": {},
   "outputs": [],
   "source": [
    "df_copy['Rating'] = df_copy['Rating'].fillna(round(df_copy['Rating'].mean(), 1))"
   ]
  },
  {
   "cell_type": "code",
   "execution_count": 81,
   "id": "8f016b5a-e827-44be-ac16-0a8cb3670f1e",
   "metadata": {},
   "outputs": [
    {
     "data": {
      "text/plain": [
       "Text(0.5, 1.0, 'Histogram with the kde for the rating column ')"
      ]
     },
     "execution_count": 81,
     "metadata": {},
     "output_type": "execute_result"
    },
    {
     "data": {
      "image/png": "[encoded data removed]",
      "text/plain": [
       "<Figure size 640x480 with 1 Axes>"
      ]
     },
     "metadata": {},
     "output_type": "display_data"
    }
   ],
   "source": [
    "sns.histplot(df[\"Rating\"], kde = True)\n",
    "plt.title(\"Histogram with the kde for the rating column \", size=20,)"
   ]
  },
  {
   "cell_type": "code",
   "execution_count": 82,
   "id": "cce9d5a0-bf71-45cd-94f3-c970d43c043f",
   "metadata": {},
   "outputs": [],
   "source": [
    "df_copy['Size'] = df_copy['Size'].fillna(round(df_copy['Size'].mean(), 1))"
   ]
  },
  {
   "cell_type": "markdown",
   "id": "6bbf32f0-d95d-4b76-b89f-49de79611932",
   "metadata": {},
   "source": [
    "here with the help of above code we have replace all the null values with that column's mean value."
   ]
  },
  {
   "cell_type": "code",
   "execution_count": 83,
   "id": "1e8ef248-23db-4846-95b7-551fa65bc6f2",
   "metadata": {},
   "outputs": [
    {
     "data": {
      "text/plain": [
       "App                               0\n",
       "Category                          0\n",
       "Rating                            0\n",
       "Reviews                           0\n",
       "Size                              0\n",
       "Installs                          0\n",
       "Type                              0\n",
       "Price                             0\n",
       "Content Rating                    0\n",
       "Genres                            0\n",
       "Last Updated                      0\n",
       "Current Ver                       0\n",
       "Android Ver                       0\n",
       "Day                               0\n",
       "Month                             0\n",
       "Year                              0\n",
       "Content Rating_Adults only 18+    1\n",
       "Content Rating_Everyone           1\n",
       "Content Rating_Everyone 10+       1\n",
       "Content Rating_Mature 17+         1\n",
       "Content Rating_Teen               1\n",
       "Content Rating_Unrated            1\n",
       "App encoded                       0\n",
       "Installs encoded                  0\n",
       "Genres encoded                    0\n",
       "dtype: int64"
      ]
     },
     "execution_count": 83,
     "metadata": {},
     "output_type": "execute_result"
    }
   ],
   "source": [
    "df_copy.isnull().sum()"
   ]
  },
  {
   "cell_type": "code",
   "execution_count": 84,
   "id": "ba90d6ba-d5a9-4ba5-a36c-2df90478ea15",
   "metadata": {},
   "outputs": [
    {
     "data": {
      "text/html": [
       "<div>\n",
       "<style scoped>\n",
       "    .dataframe tbody tr th:only-of-type {\n",
       "        vertical-align: middle;\n",
       "    }\n",
       "\n",
       "    .dataframe tbody tr th {\n",
       "        vertical-align: top;\n",
       "    }\n",
       "\n",
       "    .dataframe thead th {\n",
       "        text-align: right;\n",
       "    }\n",
       "</style>\n",
       "<table border=\"1\" class=\"dataframe\">\n",
       "  <thead>\n",
       "    <tr style=\"text-align: right;\">\n",
       "      <th></th>\n",
       "      <th>App</th>\n",
       "      <th>Category</th>\n",
       "      <th>Rating</th>\n",
       "      <th>Reviews</th>\n",
       "      <th>Size</th>\n",
       "      <th>Installs</th>\n",
       "      <th>Type</th>\n",
       "      <th>Price</th>\n",
       "      <th>Content Rating</th>\n",
       "      <th>Genres</th>\n",
       "      <th>...</th>\n",
       "      <th>Year</th>\n",
       "      <th>Content Rating_Adults only 18+</th>\n",
       "      <th>Content Rating_Everyone</th>\n",
       "      <th>Content Rating_Everyone 10+</th>\n",
       "      <th>Content Rating_Mature 17+</th>\n",
       "      <th>Content Rating_Teen</th>\n",
       "      <th>Content Rating_Unrated</th>\n",
       "      <th>App encoded</th>\n",
       "      <th>Installs encoded</th>\n",
       "      <th>Genres encoded</th>\n",
       "    </tr>\n",
       "  </thead>\n",
       "  <tbody>\n",
       "    <tr>\n",
       "      <th>0</th>\n",
       "      <td>Photo Editor &amp; Candy Camera &amp; Grid &amp; ScrapBook</td>\n",
       "      <td>ART_AND_DESIGN</td>\n",
       "      <td>4.1</td>\n",
       "      <td>159</td>\n",
       "      <td>19000.0</td>\n",
       "      <td>10000</td>\n",
       "      <td>0.0</td>\n",
       "      <td>0.0</td>\n",
       "      <td>Everyone</td>\n",
       "      <td>Art &amp; Design</td>\n",
       "      <td>...</td>\n",
       "      <td>2018</td>\n",
       "      <td>0.0</td>\n",
       "      <td>1.0</td>\n",
       "      <td>0.0</td>\n",
       "      <td>0.0</td>\n",
       "      <td>0.0</td>\n",
       "      <td>0.0</td>\n",
       "      <td>10000.0</td>\n",
       "      <td>10000.0</td>\n",
       "      <td>2.112553e+06</td>\n",
       "    </tr>\n",
       "    <tr>\n",
       "      <th>1</th>\n",
       "      <td>Coloring book moana</td>\n",
       "      <td>ART_AND_DESIGN</td>\n",
       "      <td>3.9</td>\n",
       "      <td>967</td>\n",
       "      <td>14000.0</td>\n",
       "      <td>500000</td>\n",
       "      <td>0.0</td>\n",
       "      <td>0.0</td>\n",
       "      <td>Everyone</td>\n",
       "      <td>Art &amp; Design;Pretend Play</td>\n",
       "      <td>...</td>\n",
       "      <td>2018</td>\n",
       "      <td>0.0</td>\n",
       "      <td>1.0</td>\n",
       "      <td>0.0</td>\n",
       "      <td>0.0</td>\n",
       "      <td>0.0</td>\n",
       "      <td>0.0</td>\n",
       "      <td>500000.0</td>\n",
       "      <td>500000.0</td>\n",
       "      <td>5.000000e+05</td>\n",
       "    </tr>\n",
       "    <tr>\n",
       "      <th>2</th>\n",
       "      <td>U Launcher Lite – FREE Live Cool Themes, Hide ...</td>\n",
       "      <td>ART_AND_DESIGN</td>\n",
       "      <td>4.7</td>\n",
       "      <td>87510</td>\n",
       "      <td>8.7</td>\n",
       "      <td>5000000</td>\n",
       "      <td>0.0</td>\n",
       "      <td>0.0</td>\n",
       "      <td>Everyone</td>\n",
       "      <td>Art &amp; Design</td>\n",
       "      <td>...</td>\n",
       "      <td>2018</td>\n",
       "      <td>0.0</td>\n",
       "      <td>1.0</td>\n",
       "      <td>0.0</td>\n",
       "      <td>0.0</td>\n",
       "      <td>0.0</td>\n",
       "      <td>0.0</td>\n",
       "      <td>5000000.0</td>\n",
       "      <td>5000000.0</td>\n",
       "      <td>2.112553e+06</td>\n",
       "    </tr>\n",
       "    <tr>\n",
       "      <th>3</th>\n",
       "      <td>Sketch - Draw &amp; Paint</td>\n",
       "      <td>ART_AND_DESIGN</td>\n",
       "      <td>4.5</td>\n",
       "      <td>215644</td>\n",
       "      <td>25000.0</td>\n",
       "      <td>50000000</td>\n",
       "      <td>0.0</td>\n",
       "      <td>0.0</td>\n",
       "      <td>Teen</td>\n",
       "      <td>Art &amp; Design</td>\n",
       "      <td>...</td>\n",
       "      <td>2018</td>\n",
       "      <td>0.0</td>\n",
       "      <td>0.0</td>\n",
       "      <td>0.0</td>\n",
       "      <td>0.0</td>\n",
       "      <td>1.0</td>\n",
       "      <td>0.0</td>\n",
       "      <td>50000000.0</td>\n",
       "      <td>50000000.0</td>\n",
       "      <td>2.112553e+06</td>\n",
       "    </tr>\n",
       "    <tr>\n",
       "      <th>4</th>\n",
       "      <td>Pixel Draw - Number Art Coloring Book</td>\n",
       "      <td>ART_AND_DESIGN</td>\n",
       "      <td>4.3</td>\n",
       "      <td>967</td>\n",
       "      <td>2.8</td>\n",
       "      <td>100000</td>\n",
       "      <td>0.0</td>\n",
       "      <td>0.0</td>\n",
       "      <td>Everyone</td>\n",
       "      <td>Art &amp; Design;Creativity</td>\n",
       "      <td>...</td>\n",
       "      <td>2018</td>\n",
       "      <td>0.0</td>\n",
       "      <td>1.0</td>\n",
       "      <td>0.0</td>\n",
       "      <td>0.0</td>\n",
       "      <td>0.0</td>\n",
       "      <td>0.0</td>\n",
       "      <td>100000.0</td>\n",
       "      <td>100000.0</td>\n",
       "      <td>3.157143e+05</td>\n",
       "    </tr>\n",
       "  </tbody>\n",
       "</table>\n",
       "<p>5 rows × 25 columns</p>\n",
       "</div>"
      ],
      "text/plain": [
       "                                                 App        Category  Rating  \\\n",
       "0     Photo Editor & Candy Camera & Grid & ScrapBook  ART_AND_DESIGN     4.1   \n",
       "1                                Coloring book moana  ART_AND_DESIGN     3.9   \n",
       "2  U Launcher Lite – FREE Live Cool Themes, Hide ...  ART_AND_DESIGN     4.7   \n",
       "3                              Sketch - Draw & Paint  ART_AND_DESIGN     4.5   \n",
       "4              Pixel Draw - Number Art Coloring Book  ART_AND_DESIGN     4.3   \n",
       "\n",
       "   Reviews     Size  Installs  Type  Price Content Rating  \\\n",
       "0      159  19000.0     10000   0.0    0.0       Everyone   \n",
       "1      967  14000.0    500000   0.0    0.0       Everyone   \n",
       "2    87510      8.7   5000000   0.0    0.0       Everyone   \n",
       "3   215644  25000.0  50000000   0.0    0.0           Teen   \n",
       "4      967      2.8    100000   0.0    0.0       Everyone   \n",
       "\n",
       "                      Genres  ...  Year Content Rating_Adults only 18+  \\\n",
       "0               Art & Design  ...  2018                            0.0   \n",
       "1  Art & Design;Pretend Play  ...  2018                            0.0   \n",
       "2               Art & Design  ...  2018                            0.0   \n",
       "3               Art & Design  ...  2018                            0.0   \n",
       "4    Art & Design;Creativity  ...  2018                            0.0   \n",
       "\n",
       "   Content Rating_Everyone  Content Rating_Everyone 10+  \\\n",
       "0                      1.0                          0.0   \n",
       "1                      1.0                          0.0   \n",
       "2                      1.0                          0.0   \n",
       "3                      0.0                          0.0   \n",
       "4                      1.0                          0.0   \n",
       "\n",
       "   Content Rating_Mature 17+  Content Rating_Teen  Content Rating_Unrated  \\\n",
       "0                        0.0                  0.0                     0.0   \n",
       "1                        0.0                  0.0                     0.0   \n",
       "2                        0.0                  0.0                     0.0   \n",
       "3                        0.0                  1.0                     0.0   \n",
       "4                        0.0                  0.0                     0.0   \n",
       "\n",
       "   App encoded  Installs encoded  Genres encoded  \n",
       "0      10000.0           10000.0    2.112553e+06  \n",
       "1     500000.0          500000.0    5.000000e+05  \n",
       "2    5000000.0         5000000.0    2.112553e+06  \n",
       "3   50000000.0        50000000.0    2.112553e+06  \n",
       "4     100000.0          100000.0    3.157143e+05  \n",
       "\n",
       "[5 rows x 25 columns]"
      ]
     },
     "execution_count": 84,
     "metadata": {},
     "output_type": "execute_result"
    }
   ],
   "source": [
    "df_copy.head()"
   ]
  },
  {
   "cell_type": "code",
   "execution_count": 85,
   "id": "2f7ca757-e464-4328-a567-3c16fc61e9d5",
   "metadata": {},
   "outputs": [
    {
     "name": "stdout",
     "output_type": "stream",
     "text": [
      "<class 'pandas.core.frame.DataFrame'>\n",
      "RangeIndex: 10358 entries, 0 to 10357\n",
      "Data columns (total 25 columns):\n",
      " #   Column                          Non-Null Count  Dtype         \n",
      "---  ------                          --------------  -----         \n",
      " 0   App                             10358 non-null  object        \n",
      " 1   Category                        10358 non-null  object        \n",
      " 2   Rating                          10358 non-null  float64       \n",
      " 3   Reviews                         10358 non-null  int64         \n",
      " 4   Size                            10358 non-null  float64       \n",
      " 5   Installs                        10358 non-null  int64         \n",
      " 6   Type                            10358 non-null  float64       \n",
      " 7   Price                           10358 non-null  float64       \n",
      " 8   Content Rating                  10358 non-null  object        \n",
      " 9   Genres                          10358 non-null  object        \n",
      " 10  Last Updated                    10358 non-null  datetime64[ns]\n",
      " 11  Current Ver                     10358 non-null  object        \n",
      " 12  Android Ver                     10358 non-null  float64       \n",
      " 13  Day                             10358 non-null  int32         \n",
      " 14  Month                           10358 non-null  int32         \n",
      " 15  Year                            10358 non-null  int32         \n",
      " 16  Content Rating_Adults only 18+  10357 non-null  float64       \n",
      " 17  Content Rating_Everyone         10357 non-null  float64       \n",
      " 18  Content Rating_Everyone 10+     10357 non-null  float64       \n",
      " 19  Content Rating_Mature 17+       10357 non-null  float64       \n",
      " 20  Content Rating_Teen             10357 non-null  float64       \n",
      " 21  Content Rating_Unrated          10357 non-null  float64       \n",
      " 22  App encoded                     10358 non-null  float64       \n",
      " 23  Installs encoded                10358 non-null  float64       \n",
      " 24  Genres encoded                  10358 non-null  float64       \n",
      "dtypes: datetime64[ns](1), float64(14), int32(3), int64(2), object(5)\n",
      "memory usage: 1.9+ MB\n"
     ]
    }
   ],
   "source": [
    "df_copy.info()"
   ]
  },
  {
   "cell_type": "code",
   "execution_count": 86,
   "id": "a94fea02-c080-4d13-aa70-45a35b42b89c",
   "metadata": {},
   "outputs": [
    {
     "data": {
      "text/html": [
       "<div>\n",
       "<style scoped>\n",
       "    .dataframe tbody tr th:only-of-type {\n",
       "        vertical-align: middle;\n",
       "    }\n",
       "\n",
       "    .dataframe tbody tr th {\n",
       "        vertical-align: top;\n",
       "    }\n",
       "\n",
       "    .dataframe thead th {\n",
       "        text-align: right;\n",
       "    }\n",
       "</style>\n",
       "<table border=\"1\" class=\"dataframe\">\n",
       "  <thead>\n",
       "    <tr style=\"text-align: right;\">\n",
       "      <th></th>\n",
       "      <th>App</th>\n",
       "      <th>Category</th>\n",
       "      <th>Rating</th>\n",
       "      <th>Reviews</th>\n",
       "      <th>Size</th>\n",
       "      <th>Installs</th>\n",
       "      <th>Type</th>\n",
       "      <th>Price</th>\n",
       "      <th>Content Rating</th>\n",
       "      <th>Genres</th>\n",
       "      <th>...</th>\n",
       "      <th>Year</th>\n",
       "      <th>Content Rating_Adults only 18+</th>\n",
       "      <th>Content Rating_Everyone</th>\n",
       "      <th>Content Rating_Everyone 10+</th>\n",
       "      <th>Content Rating_Mature 17+</th>\n",
       "      <th>Content Rating_Teen</th>\n",
       "      <th>Content Rating_Unrated</th>\n",
       "      <th>App encoded</th>\n",
       "      <th>Installs encoded</th>\n",
       "      <th>Genres encoded</th>\n",
       "    </tr>\n",
       "  </thead>\n",
       "  <tbody>\n",
       "    <tr>\n",
       "      <th>10357</th>\n",
       "      <td>iHoroscope - 2018 Daily Horoscope &amp; Astrology</td>\n",
       "      <td>LIFESTYLE</td>\n",
       "      <td>4.5</td>\n",
       "      <td>398307</td>\n",
       "      <td>19000.0</td>\n",
       "      <td>10000000</td>\n",
       "      <td>0.0</td>\n",
       "      <td>0.0</td>\n",
       "      <td>Everyone</td>\n",
       "      <td>Lifestyle</td>\n",
       "      <td>...</td>\n",
       "      <td>2018</td>\n",
       "      <td>NaN</td>\n",
       "      <td>NaN</td>\n",
       "      <td>NaN</td>\n",
       "      <td>NaN</td>\n",
       "      <td>NaN</td>\n",
       "      <td>NaN</td>\n",
       "      <td>10000000.0</td>\n",
       "      <td>10000000.0</td>\n",
       "      <td>1.384891e+06</td>\n",
       "    </tr>\n",
       "  </tbody>\n",
       "</table>\n",
       "<p>1 rows × 25 columns</p>\n",
       "</div>"
      ],
      "text/plain": [
       "                                                 App   Category  Rating  \\\n",
       "10357  iHoroscope - 2018 Daily Horoscope & Astrology  LIFESTYLE     4.5   \n",
       "\n",
       "       Reviews     Size  Installs  Type  Price Content Rating     Genres  ...  \\\n",
       "10357   398307  19000.0  10000000   0.0    0.0       Everyone  Lifestyle  ...   \n",
       "\n",
       "       Year Content Rating_Adults only 18+  Content Rating_Everyone  \\\n",
       "10357  2018                            NaN                      NaN   \n",
       "\n",
       "       Content Rating_Everyone 10+  Content Rating_Mature 17+  \\\n",
       "10357                          NaN                        NaN   \n",
       "\n",
       "       Content Rating_Teen  Content Rating_Unrated  App encoded  \\\n",
       "10357                  NaN                     NaN   10000000.0   \n",
       "\n",
       "       Installs encoded  Genres encoded  \n",
       "10357        10000000.0    1.384891e+06  \n",
       "\n",
       "[1 rows x 25 columns]"
      ]
     },
     "execution_count": 86,
     "metadata": {},
     "output_type": "execute_result"
    }
   ],
   "source": [
    "# \"Content Rating\" columns contains 1 nan value in all five columns let's drop this raw.\n",
    "df_copy[df_copy[\"Content Rating_Adults only 18+\"].isnull()]"
   ]
  },
  {
   "cell_type": "code",
   "execution_count": 87,
   "id": "51b7f487-be63-4bcc-a8ee-4e031d6e330f",
   "metadata": {},
   "outputs": [],
   "source": [
    "df_copy=df_copy.drop(df_copy.index[10357])"
   ]
  },
  {
   "cell_type": "code",
   "execution_count": 88,
   "id": "7fa95e3a-b56f-4df4-90c6-f99b301fb468",
   "metadata": {},
   "outputs": [
    {
     "data": {
      "text/plain": [
       "App                               0\n",
       "Category                          0\n",
       "Rating                            0\n",
       "Reviews                           0\n",
       "Size                              0\n",
       "Installs                          0\n",
       "Type                              0\n",
       "Price                             0\n",
       "Content Rating                    0\n",
       "Genres                            0\n",
       "Last Updated                      0\n",
       "Current Ver                       0\n",
       "Android Ver                       0\n",
       "Day                               0\n",
       "Month                             0\n",
       "Year                              0\n",
       "Content Rating_Adults only 18+    0\n",
       "Content Rating_Everyone           0\n",
       "Content Rating_Everyone 10+       0\n",
       "Content Rating_Mature 17+         0\n",
       "Content Rating_Teen               0\n",
       "Content Rating_Unrated            0\n",
       "App encoded                       0\n",
       "Installs encoded                  0\n",
       "Genres encoded                    0\n",
       "dtype: int64"
      ]
     },
     "execution_count": 88,
     "metadata": {},
     "output_type": "execute_result"
    }
   ],
   "source": [
    "df_copy.isnull().sum()"
   ]
  },
  {
   "cell_type": "code",
   "execution_count": 89,
   "id": "4a829461-a914-4cbd-bdf9-59dfe7838279",
   "metadata": {},
   "outputs": [
    {
     "data": {
      "text/plain": [
       "Index(['App', 'Category', 'Rating', 'Reviews', 'Size', 'Installs', 'Type',\n",
       "       'Price', 'Content Rating', 'Genres', 'Last Updated', 'Current Ver',\n",
       "       'Android Ver', 'Day', 'Month', 'Year', 'Content Rating_Adults only 18+',\n",
       "       'Content Rating_Everyone', 'Content Rating_Everyone 10+',\n",
       "       'Content Rating_Mature 17+', 'Content Rating_Teen',\n",
       "       'Content Rating_Unrated', 'App encoded', 'Installs encoded',\n",
       "       'Genres encoded'],\n",
       "      dtype='object')"
      ]
     },
     "execution_count": 89,
     "metadata": {},
     "output_type": "execute_result"
    }
   ],
   "source": [
    "df_copy.columns"
   ]
  },
  {
   "cell_type": "code",
   "execution_count": null,
   "id": "1302f0da-6e8c-4bb0-936d-008837e589b8",
   "metadata": {},
   "outputs": [],
   "source": []
  }
 ],
 "metadata": {
  "kernelspec": {
   "display_name": "Python 3 (ipykernel)",
   "language": "python",
   "name": "python3"
  },
  "language_info": {
   "codemirror_mode": {
    "name": "ipython",
    "version": 3
   },
   "file_extension": ".py",
   "mimetype": "text/x-python",
   "name": "python",
   "nbconvert_exporter": "python",
   "pygments_lexer": "ipython3",
   "version": "3.11.3"
  }
 },
 "nbformat": 4,
 "nbformat_minor": 5
}
